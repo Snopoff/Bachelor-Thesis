{
  "nbformat": 4,
  "nbformat_minor": 5,
  "metadata": {
    "accelerator": "GPU",
    "colab": {
      "name": "ba-thesis.ipynb",
      "provenance": [],
      "collapsed_sections": [
        "47c60a1c-13c8-4326-8132-b8657dc7ba18",
        "bafbc2cc-e1da-44f5-b46d-1a62892f11b1",
        "7e2c6f3f-d69c-4e5a-8ae1-42e65266438e",
        "3f5c9491-b30a-434c-915b-f1e74e813647",
        "364d0b39-f6ba-45f0-bff2-57b18b8a3da3",
        "0a62a2c9-dfff-4d7d-aba9-3ed55c78b347",
        "YrLA8Hhz0X3Z",
        "EDTC1eC8yuv0",
        "_VCq6FvR9rmb",
        "IlFeg2YY9wLc",
        "muePlohR4dGa"
      ],
      "toc_visible": true
    },
    "kernelspec": {
      "display_name": "Python 3",
      "language": "python",
      "name": "python3"
    },
    "language_info": {
      "codemirror_mode": {
        "name": "ipython",
        "version": 3
      },
      "file_extension": ".py",
      "mimetype": "text/x-python",
      "name": "python",
      "nbconvert_exporter": "python",
      "pygments_lexer": "ipython3",
      "version": "3.9.2"
    }
  },
  "cells": [
    {
      "cell_type": "markdown",
      "metadata": {
        "id": "5aa45a41-ed0b-4511-bc86-2f834783421f"
      },
      "source": [
        "# Bachelor Thesis\n",
        "## MNIST classification using persistent homology"
      ],
      "id": "5aa45a41-ed0b-4511-bc86-2f834783421f"
    },
    {
      "cell_type": "code",
      "metadata": {
        "colab": {
          "base_uri": "https://localhost:8080/"
        },
        "id": "E5gCMjnts-_Y",
        "outputId": "f9c260df-9ead-44d5-da45-7c8265b68f17"
      },
      "source": [
        "!pip install giotto-tda\n",
        "!pip install catboost\n",
        "!pip install lightgbm\n",
        "!pip install xgboost"
      ],
      "id": "E5gCMjnts-_Y",
      "execution_count": null,
      "outputs": [
        {
          "output_type": "stream",
          "text": [
            "Collecting giotto-tda\n",
            "\u001b[?25l  Downloading https://files.pythonhosted.org/packages/c3/ec/764e7fbd5ac8cdb2110d4a108c8acc6e2094eef43db0f9f8cc88d5323d72/giotto_tda-0.4.0-cp37-cp37m-manylinux2010_x86_64.whl (1.5MB)\n",
            "\u001b[K     |████████████████████████████████| 1.5MB 27.5MB/s \n",
            "\u001b[?25hCollecting scikit-learn>=0.23.1\n",
            "\u001b[?25l  Downloading https://files.pythonhosted.org/packages/a8/eb/a48f25c967526b66d5f1fa7a984594f0bf0a5afafa94a8c4dbc317744620/scikit_learn-0.24.2-cp37-cp37m-manylinux2010_x86_64.whl (22.3MB)\n",
            "\u001b[K     |████████████████████████████████| 22.3MB 1.8MB/s \n",
            "\u001b[?25hCollecting scipy>=1.5.0\n",
            "\u001b[?25l  Downloading https://files.pythonhosted.org/packages/7d/e8/43ffca541d2f208d516296950b25fe1084b35c2881f4d444c1346ca75815/scipy-1.6.3-cp37-cp37m-manylinux1_x86_64.whl (27.4MB)\n",
            "\u001b[K     |████████████████████████████████| 27.4MB 1.5MB/s \n",
            "\u001b[?25hRequirement already satisfied: joblib>=0.16.0 in /usr/local/lib/python3.7/dist-packages (from giotto-tda) (1.0.1)\n",
            "Collecting python-igraph>=0.8.2\n",
            "\u001b[?25l  Downloading https://files.pythonhosted.org/packages/2f/d9/4f0a1b01ec1020dd0a089c5590e2efbb22f05873b72c03d5d89567ae9b02/python_igraph-0.9.4-cp37-cp37m-manylinux2010_x86_64.whl (3.2MB)\n",
            "\u001b[K     |████████████████████████████████| 3.2MB 46.6MB/s \n",
            "\u001b[?25hRequirement already satisfied: ipywidgets>=7.5.1 in /usr/local/lib/python3.7/dist-packages (from giotto-tda) (7.6.3)\n",
            "Requirement already satisfied: numpy>=1.19.1 in /usr/local/lib/python3.7/dist-packages (from giotto-tda) (1.19.5)\n",
            "Collecting plotly>=4.8.2\n",
            "\u001b[?25l  Downloading https://files.pythonhosted.org/packages/1f/f6/bd3c17c8003b6641df1228e80e1acac97ed8402635e46c2571f8e1ef63af/plotly-4.14.3-py2.py3-none-any.whl (13.2MB)\n",
            "\u001b[K     |████████████████████████████████| 13.2MB 128kB/s \n",
            "\u001b[?25hCollecting pyflagser>=0.4.3\n",
            "\u001b[?25l  Downloading https://files.pythonhosted.org/packages/63/42/b602369733d9ed5722ca5273abc457c85ac666127220c0f3af3b7a12badf/pyflagser-0.4.4-cp37-cp37m-manylinux2010_x86_64.whl (404kB)\n",
            "\u001b[K     |████████████████████████████████| 409kB 57.3MB/s \n",
            "\u001b[?25hCollecting threadpoolctl>=2.0.0\n",
            "  Downloading https://files.pythonhosted.org/packages/f7/12/ec3f2e203afa394a149911729357aa48affc59c20e2c1c8297a60f33f133/threadpoolctl-2.1.0-py3-none-any.whl\n",
            "Collecting texttable>=1.6.2\n",
            "  Downloading https://files.pythonhosted.org/packages/06/f5/46201c428aebe0eecfa83df66bf3e6caa29659dbac5a56ddfd83cae0d4a4/texttable-1.6.3-py2.py3-none-any.whl\n",
            "Requirement already satisfied: ipykernel>=4.5.1 in /usr/local/lib/python3.7/dist-packages (from ipywidgets>=7.5.1->giotto-tda) (4.10.1)\n",
            "Requirement already satisfied: nbformat>=4.2.0 in /usr/local/lib/python3.7/dist-packages (from ipywidgets>=7.5.1->giotto-tda) (5.1.3)\n",
            "Requirement already satisfied: widgetsnbextension~=3.5.0 in /usr/local/lib/python3.7/dist-packages (from ipywidgets>=7.5.1->giotto-tda) (3.5.1)\n",
            "Requirement already satisfied: jupyterlab-widgets>=1.0.0; python_version >= \"3.6\" in /usr/local/lib/python3.7/dist-packages (from ipywidgets>=7.5.1->giotto-tda) (1.0.0)\n",
            "Requirement already satisfied: traitlets>=4.3.1 in /usr/local/lib/python3.7/dist-packages (from ipywidgets>=7.5.1->giotto-tda) (5.0.5)\n",
            "Requirement already satisfied: ipython>=4.0.0; python_version >= \"3.3\" in /usr/local/lib/python3.7/dist-packages (from ipywidgets>=7.5.1->giotto-tda) (5.5.0)\n",
            "Requirement already satisfied: retrying>=1.3.3 in /usr/local/lib/python3.7/dist-packages (from plotly>=4.8.2->giotto-tda) (1.3.3)\n",
            "Requirement already satisfied: six in /usr/local/lib/python3.7/dist-packages (from plotly>=4.8.2->giotto-tda) (1.15.0)\n",
            "Requirement already satisfied: tornado>=4.0 in /usr/local/lib/python3.7/dist-packages (from ipykernel>=4.5.1->ipywidgets>=7.5.1->giotto-tda) (5.1.1)\n",
            "Requirement already satisfied: jupyter-client in /usr/local/lib/python3.7/dist-packages (from ipykernel>=4.5.1->ipywidgets>=7.5.1->giotto-tda) (5.3.5)\n",
            "Requirement already satisfied: ipython-genutils in /usr/local/lib/python3.7/dist-packages (from nbformat>=4.2.0->ipywidgets>=7.5.1->giotto-tda) (0.2.0)\n",
            "Requirement already satisfied: jsonschema!=2.5.0,>=2.4 in /usr/local/lib/python3.7/dist-packages (from nbformat>=4.2.0->ipywidgets>=7.5.1->giotto-tda) (2.6.0)\n",
            "Requirement already satisfied: jupyter-core in /usr/local/lib/python3.7/dist-packages (from nbformat>=4.2.0->ipywidgets>=7.5.1->giotto-tda) (4.7.1)\n",
            "Requirement already satisfied: notebook>=4.4.1 in /usr/local/lib/python3.7/dist-packages (from widgetsnbextension~=3.5.0->ipywidgets>=7.5.1->giotto-tda) (5.3.1)\n",
            "Requirement already satisfied: setuptools>=18.5 in /usr/local/lib/python3.7/dist-packages (from ipython>=4.0.0; python_version >= \"3.3\"->ipywidgets>=7.5.1->giotto-tda) (56.1.0)\n",
            "Requirement already satisfied: pickleshare in /usr/local/lib/python3.7/dist-packages (from ipython>=4.0.0; python_version >= \"3.3\"->ipywidgets>=7.5.1->giotto-tda) (0.7.5)\n",
            "Requirement already satisfied: pygments in /usr/local/lib/python3.7/dist-packages (from ipython>=4.0.0; python_version >= \"3.3\"->ipywidgets>=7.5.1->giotto-tda) (2.6.1)\n",
            "Requirement already satisfied: prompt-toolkit<2.0.0,>=1.0.4 in /usr/local/lib/python3.7/dist-packages (from ipython>=4.0.0; python_version >= \"3.3\"->ipywidgets>=7.5.1->giotto-tda) (1.0.18)\n",
            "Requirement already satisfied: decorator in /usr/local/lib/python3.7/dist-packages (from ipython>=4.0.0; python_version >= \"3.3\"->ipywidgets>=7.5.1->giotto-tda) (4.4.2)\n",
            "Requirement already satisfied: simplegeneric>0.8 in /usr/local/lib/python3.7/dist-packages (from ipython>=4.0.0; python_version >= \"3.3\"->ipywidgets>=7.5.1->giotto-tda) (0.8.1)\n",
            "Requirement already satisfied: pexpect; sys_platform != \"win32\" in /usr/local/lib/python3.7/dist-packages (from ipython>=4.0.0; python_version >= \"3.3\"->ipywidgets>=7.5.1->giotto-tda) (4.8.0)\n",
            "Requirement already satisfied: python-dateutil>=2.1 in /usr/local/lib/python3.7/dist-packages (from jupyter-client->ipykernel>=4.5.1->ipywidgets>=7.5.1->giotto-tda) (2.8.1)\n",
            "Requirement already satisfied: pyzmq>=13 in /usr/local/lib/python3.7/dist-packages (from jupyter-client->ipykernel>=4.5.1->ipywidgets>=7.5.1->giotto-tda) (22.0.3)\n",
            "Requirement already satisfied: Send2Trash in /usr/local/lib/python3.7/dist-packages (from notebook>=4.4.1->widgetsnbextension~=3.5.0->ipywidgets>=7.5.1->giotto-tda) (1.5.0)\n",
            "Requirement already satisfied: jinja2 in /usr/local/lib/python3.7/dist-packages (from notebook>=4.4.1->widgetsnbextension~=3.5.0->ipywidgets>=7.5.1->giotto-tda) (2.11.3)\n",
            "Requirement already satisfied: nbconvert in /usr/local/lib/python3.7/dist-packages (from notebook>=4.4.1->widgetsnbextension~=3.5.0->ipywidgets>=7.5.1->giotto-tda) (5.6.1)\n",
            "Requirement already satisfied: terminado>=0.8.1 in /usr/local/lib/python3.7/dist-packages (from notebook>=4.4.1->widgetsnbextension~=3.5.0->ipywidgets>=7.5.1->giotto-tda) (0.10.0)\n",
            "Requirement already satisfied: wcwidth in /usr/local/lib/python3.7/dist-packages (from prompt-toolkit<2.0.0,>=1.0.4->ipython>=4.0.0; python_version >= \"3.3\"->ipywidgets>=7.5.1->giotto-tda) (0.2.5)\n",
            "Requirement already satisfied: ptyprocess>=0.5 in /usr/local/lib/python3.7/dist-packages (from pexpect; sys_platform != \"win32\"->ipython>=4.0.0; python_version >= \"3.3\"->ipywidgets>=7.5.1->giotto-tda) (0.7.0)\n",
            "Requirement already satisfied: MarkupSafe>=0.23 in /usr/local/lib/python3.7/dist-packages (from jinja2->notebook>=4.4.1->widgetsnbextension~=3.5.0->ipywidgets>=7.5.1->giotto-tda) (2.0.1)\n",
            "Requirement already satisfied: entrypoints>=0.2.2 in /usr/local/lib/python3.7/dist-packages (from nbconvert->notebook>=4.4.1->widgetsnbextension~=3.5.0->ipywidgets>=7.5.1->giotto-tda) (0.3)\n",
            "Requirement already satisfied: defusedxml in /usr/local/lib/python3.7/dist-packages (from nbconvert->notebook>=4.4.1->widgetsnbextension~=3.5.0->ipywidgets>=7.5.1->giotto-tda) (0.7.1)\n",
            "Requirement already satisfied: mistune<2,>=0.8.1 in /usr/local/lib/python3.7/dist-packages (from nbconvert->notebook>=4.4.1->widgetsnbextension~=3.5.0->ipywidgets>=7.5.1->giotto-tda) (0.8.4)\n",
            "Requirement already satisfied: pandocfilters>=1.4.1 in /usr/local/lib/python3.7/dist-packages (from nbconvert->notebook>=4.4.1->widgetsnbextension~=3.5.0->ipywidgets>=7.5.1->giotto-tda) (1.4.3)\n",
            "Requirement already satisfied: testpath in /usr/local/lib/python3.7/dist-packages (from nbconvert->notebook>=4.4.1->widgetsnbextension~=3.5.0->ipywidgets>=7.5.1->giotto-tda) (0.5.0)\n",
            "Requirement already satisfied: bleach in /usr/local/lib/python3.7/dist-packages (from nbconvert->notebook>=4.4.1->widgetsnbextension~=3.5.0->ipywidgets>=7.5.1->giotto-tda) (3.3.0)\n",
            "Requirement already satisfied: packaging in /usr/local/lib/python3.7/dist-packages (from bleach->nbconvert->notebook>=4.4.1->widgetsnbextension~=3.5.0->ipywidgets>=7.5.1->giotto-tda) (20.9)\n",
            "Requirement already satisfied: webencodings in /usr/local/lib/python3.7/dist-packages (from bleach->nbconvert->notebook>=4.4.1->widgetsnbextension~=3.5.0->ipywidgets>=7.5.1->giotto-tda) (0.5.1)\n",
            "Requirement already satisfied: pyparsing>=2.0.2 in /usr/local/lib/python3.7/dist-packages (from packaging->bleach->nbconvert->notebook>=4.4.1->widgetsnbextension~=3.5.0->ipywidgets>=7.5.1->giotto-tda) (2.4.7)\n",
            "\u001b[31mERROR: albumentations 0.1.12 has requirement imgaug<0.2.7,>=0.2.5, but you'll have imgaug 0.2.9 which is incompatible.\u001b[0m\n",
            "Installing collected packages: scipy, threadpoolctl, scikit-learn, texttable, python-igraph, plotly, pyflagser, giotto-tda\n",
            "  Found existing installation: scipy 1.4.1\n",
            "    Uninstalling scipy-1.4.1:\n",
            "      Successfully uninstalled scipy-1.4.1\n",
            "  Found existing installation: scikit-learn 0.22.2.post1\n",
            "    Uninstalling scikit-learn-0.22.2.post1:\n",
            "      Successfully uninstalled scikit-learn-0.22.2.post1\n",
            "  Found existing installation: plotly 4.4.1\n",
            "    Uninstalling plotly-4.4.1:\n",
            "      Successfully uninstalled plotly-4.4.1\n",
            "Successfully installed giotto-tda-0.4.0 plotly-4.14.3 pyflagser-0.4.4 python-igraph-0.9.4 scikit-learn-0.24.2 scipy-1.6.3 texttable-1.6.3 threadpoolctl-2.1.0\n",
            "Collecting catboost\n",
            "\u001b[?25l  Downloading https://files.pythonhosted.org/packages/47/80/8e9c57ec32dfed6ba2922bc5c96462cbf8596ce1a6f5de532ad1e43e53fe/catboost-0.25.1-cp37-none-manylinux1_x86_64.whl (67.3MB)\n",
            "\u001b[K     |████████████████████████████████| 67.3MB 59kB/s \n",
            "\u001b[?25hRequirement already satisfied: numpy>=1.16.0 in /usr/local/lib/python3.7/dist-packages (from catboost) (1.19.5)\n",
            "Requirement already satisfied: matplotlib in /usr/local/lib/python3.7/dist-packages (from catboost) (3.2.2)\n",
            "Requirement already satisfied: graphviz in /usr/local/lib/python3.7/dist-packages (from catboost) (0.10.1)\n",
            "Requirement already satisfied: pandas>=0.24.0 in /usr/local/lib/python3.7/dist-packages (from catboost) (1.1.5)\n",
            "Requirement already satisfied: six in /usr/local/lib/python3.7/dist-packages (from catboost) (1.15.0)\n",
            "Requirement already satisfied: plotly in /usr/local/lib/python3.7/dist-packages (from catboost) (4.14.3)\n",
            "Requirement already satisfied: scipy in /usr/local/lib/python3.7/dist-packages (from catboost) (1.6.3)\n",
            "Requirement already satisfied: kiwisolver>=1.0.1 in /usr/local/lib/python3.7/dist-packages (from matplotlib->catboost) (1.3.1)\n",
            "Requirement already satisfied: pyparsing!=2.0.4,!=2.1.2,!=2.1.6,>=2.0.1 in /usr/local/lib/python3.7/dist-packages (from matplotlib->catboost) (2.4.7)\n",
            "Requirement already satisfied: cycler>=0.10 in /usr/local/lib/python3.7/dist-packages (from matplotlib->catboost) (0.10.0)\n",
            "Requirement already satisfied: python-dateutil>=2.1 in /usr/local/lib/python3.7/dist-packages (from matplotlib->catboost) (2.8.1)\n",
            "Requirement already satisfied: pytz>=2017.2 in /usr/local/lib/python3.7/dist-packages (from pandas>=0.24.0->catboost) (2018.9)\n",
            "Requirement already satisfied: retrying>=1.3.3 in /usr/local/lib/python3.7/dist-packages (from plotly->catboost) (1.3.3)\n",
            "Installing collected packages: catboost\n",
            "Successfully installed catboost-0.25.1\n",
            "Requirement already satisfied: lightgbm in /usr/local/lib/python3.7/dist-packages (2.2.3)\n",
            "Requirement already satisfied: scikit-learn in /usr/local/lib/python3.7/dist-packages (from lightgbm) (0.24.2)\n",
            "Requirement already satisfied: scipy in /usr/local/lib/python3.7/dist-packages (from lightgbm) (1.6.3)\n",
            "Requirement already satisfied: numpy in /usr/local/lib/python3.7/dist-packages (from lightgbm) (1.19.5)\n",
            "Requirement already satisfied: joblib>=0.11 in /usr/local/lib/python3.7/dist-packages (from scikit-learn->lightgbm) (1.0.1)\n",
            "Requirement already satisfied: threadpoolctl>=2.0.0 in /usr/local/lib/python3.7/dist-packages (from scikit-learn->lightgbm) (2.1.0)\n",
            "Requirement already satisfied: xgboost in /usr/local/lib/python3.7/dist-packages (0.90)\n",
            "Requirement already satisfied: scipy in /usr/local/lib/python3.7/dist-packages (from xgboost) (1.6.3)\n",
            "Requirement already satisfied: numpy in /usr/local/lib/python3.7/dist-packages (from xgboost) (1.19.5)\n"
          ],
          "name": "stdout"
        }
      ]
    },
    {
      "cell_type": "code",
      "metadata": {
        "id": "549c24ee-6a0c-43f0-9d28-e3de035b627d"
      },
      "source": [
        "import numpy as np\n",
        "import matplotlib.pyplot as plt\n",
        "import plotly as pl\n",
        "from sklearn import datasets\n",
        "from IPython.display import HTML\n",
        "\n",
        "from sklearn.model_selection import train_test_split\n",
        "\n",
        "from gtda.homology import CubicalPersistence\n",
        "from gtda.images import Binarizer, RadialFiltration\n",
        "from gtda.diagrams import Scaler\n",
        "\n",
        "from gtda.diagrams import HeatKernel\n",
        "\n",
        "from sklearn.pipeline import make_pipeline, make_union, Pipeline\n",
        "from gtda.diagrams import PersistenceEntropy, Amplitude\n",
        "from gtda.images import HeightFiltration\n",
        "\n",
        "from sklearn.ensemble import RandomForestClassifier\n",
        "from sklearn.linear_model import LogisticRegression\n",
        "from sklearn.svm import SVC\n",
        "\n",
        "from sklearn.model_selection import GridSearchCV\n",
        "from catboost import CatBoostClassifier\n",
        "from lightgbm import LGBMClassifier\n",
        "from xgboost import XGBClassifier"
      ],
      "id": "549c24ee-6a0c-43f0-9d28-e3de035b627d",
      "execution_count": null,
      "outputs": []
    },
    {
      "cell_type": "markdown",
      "metadata": {
        "id": "47c60a1c-13c8-4326-8132-b8657dc7ba18"
      },
      "source": [
        "### 1. Load MNIST Data and create train/test datasets"
      ],
      "id": "47c60a1c-13c8-4326-8132-b8657dc7ba18"
    },
    {
      "cell_type": "markdown",
      "metadata": {
        "id": "f1ed73e9-4197-43fd-a87e-4e39eccbc215"
      },
      "source": [
        "Let's load MNIST data"
      ],
      "id": "f1ed73e9-4197-43fd-a87e-4e39eccbc215"
    },
    {
      "cell_type": "code",
      "metadata": {
        "id": "19dbaf72-5d45-4c3f-8f65-8899b60de3ca"
      },
      "source": [
        "from sklearn.datasets import fetch_openml\n",
        "\n",
        "X, y = fetch_openml(\"mnist_784\", version=1, return_X_y=True)"
      ],
      "id": "19dbaf72-5d45-4c3f-8f65-8899b60de3ca",
      "execution_count": null,
      "outputs": []
    },
    {
      "cell_type": "code",
      "metadata": {
        "id": "83b21102-c2f2-4e50-b202-d0f57720d45e"
      },
      "source": [
        "y = y.to_numpy()\n",
        "X = X.to_numpy().reshape((-1, 28, 28))"
      ],
      "id": "83b21102-c2f2-4e50-b202-d0f57720d45e",
      "execution_count": null,
      "outputs": []
    },
    {
      "cell_type": "code",
      "metadata": {
        "colab": {
          "base_uri": "https://localhost:8080/"
        },
        "id": "c5681f55-3d55-4a21-ad51-91bf3db19922",
        "outputId": "ae9f8d13-bc03-4e24-f869-e7c2a5f9850d"
      },
      "source": [
        "fig, axes = plt.subplots(2, 2, figsize = (8, 8), constrained_layout=True)\n",
        "for i in range(4):\n",
        "    ax = axes.flat[i]\n",
        "    ax.imshow(X[i], cmap='gray_r')\n",
        "fig.suptitle(\"First 4 images\", fontsize = 16)\n",
        "plt.show()"
      ],
      "id": "c5681f55-3d55-4a21-ad51-91bf3db19922",
      "execution_count": null,
      "outputs": [
        {
          "output_type": "display_data",
          "data": {
            "image/png": "[encoded data removed]",
            "text/plain": [
              "<Figure size 576x576 with 4 Axes>"
            ]
          },
          "metadata": {
            "tags": []
          }
        }
      ]
    },
    {
      "cell_type": "code",
      "metadata": {
        "id": "7bd7444a-bfb6-4a68-9876-6de22e3c72a6"
      },
      "source": [
        "train_size, test_size = 700, 300\n",
        "\n",
        "\n",
        "X_train, X_test, y_train, y_test = train_test_split(\n",
        "    X, y, train_size=train_size, test_size=test_size, random_state = 42, shuffle = True)"
      ],
      "id": "7bd7444a-bfb6-4a68-9876-6de22e3c72a6",
      "execution_count": null,
      "outputs": []
    },
    {
      "cell_type": "markdown",
      "metadata": {
        "id": "bafbc2cc-e1da-44f5-b46d-1a62892f11b1"
      },
      "source": [
        "### 2. Create cubical complexes from data and extract topological features"
      ],
      "id": "bafbc2cc-e1da-44f5-b46d-1a62892f11b1"
    },
    {
      "cell_type": "markdown",
      "metadata": {
        "id": "541bd3c4-09b4-4206-9dd0-e10e7027c5ea"
      },
      "source": [
        "I follow next pipeline:\n",
        "\n",
        "![pipeline](images/pipeline.png)"
      ],
      "id": "541bd3c4-09b4-4206-9dd0-e10e7027c5ea"
    },
    {
      "cell_type": "markdown",
      "metadata": {
        "id": "79bf0579-6e29-47d3-8158-ea46c892119a"
      },
      "source": [
        "#### 2.1 Binarization"
      ],
      "id": "79bf0579-6e29-47d3-8158-ea46c892119a"
    },
    {
      "cell_type": "code",
      "metadata": {
        "id": "007fef10-5bed-4599-8aa2-c68f82480dba"
      },
      "source": [
        "binarizer = Binarizer(threshold=0.4)"
      ],
      "id": "007fef10-5bed-4599-8aa2-c68f82480dba",
      "execution_count": null,
      "outputs": []
    },
    {
      "cell_type": "code",
      "metadata": {
        "id": "dec4e89f-902a-4614-be95-d3f9af360ba8"
      },
      "source": [
        "X_bin = binarizer.fit_transform(X).reshape((-1, 28, 28))"
      ],
      "id": "dec4e89f-902a-4614-be95-d3f9af360ba8",
      "execution_count": null,
      "outputs": []
    },
    {
      "cell_type": "code",
      "metadata": {
        "colab": {
          "base_uri": "https://localhost:8080/",
          "height": 601
        },
        "id": "8acb8114-d402-4b71-81b1-3f53a06c2ea9",
        "outputId": "f059a0b6-c394-416c-e883-a2386a729406"
      },
      "source": [
        "fig, axes = plt.subplots(2, 2, figsize = (8, 8), constrained_layout=True)\n",
        "for i in range(4):\n",
        "    ax = axes.flat[i]\n",
        "    ax.imshow(X_bin[i], cmap = 'gray_r')\n",
        "fig.suptitle(\"First 4 binarized images\", fontsize = 16)\n",
        "plt.show()"
      ],
      "id": "8acb8114-d402-4b71-81b1-3f53a06c2ea9",
      "execution_count": null,
      "outputs": [
        {
          "output_type": "display_data",
          "data": {
            "image/png": "[encoded data removed]",
            "text/plain": [
              "<Figure size 576x576 with 4 Axes>"
            ]
          },
          "metadata": {
            "tags": []
          }
        }
      ]
    },
    {
      "cell_type": "markdown",
      "metadata": {
        "id": "7e2c6f3f-d69c-4e5a-8ae1-42e65266438e"
      },
      "source": [
        "#### 2.2 Filtration"
      ],
      "id": "7e2c6f3f-d69c-4e5a-8ae1-42e65266438e"
    },
    {
      "cell_type": "code",
      "metadata": {
        "id": "c494bc79-8c78-4b0e-b8a0-2cebd565b9b3"
      },
      "source": [
        "radial_filtration = RadialFiltration(center=np.array([20, 6]))"
      ],
      "id": "c494bc79-8c78-4b0e-b8a0-2cebd565b9b3",
      "execution_count": null,
      "outputs": []
    },
    {
      "cell_type": "code",
      "metadata": {
        "id": "efa5f3e6-2289-41a8-8dfa-41171a31a284"
      },
      "source": [
        "X_filt = radial_filtration.fit_transform(X_bin).reshape((-1, 28, 28))"
      ],
      "id": "efa5f3e6-2289-41a8-8dfa-41171a31a284",
      "execution_count": null,
      "outputs": []
    },
    {
      "cell_type": "code",
      "metadata": {
        "colab": {
          "base_uri": "https://localhost:8080/",
          "height": 601
        },
        "id": "2ca0d14f-eeff-4c05-af86-f6a00d51fca5",
        "outputId": "46e37fb0-849e-41e3-d936-2c18118472ac"
      },
      "source": [
        "fig, axes = plt.subplots(2, 2, figsize = (8, 8), constrained_layout=True)\n",
        "for i in range(4):\n",
        "    ax = axes.flat[i]\n",
        "    ax.imshow(X_filt[i], cmap = \"jet\")\n",
        "fig.suptitle(\"First 4 filtered images\", fontsize = 16)\n",
        "plt.show()"
      ],
      "id": "2ca0d14f-eeff-4c05-af86-f6a00d51fca5",
      "execution_count": null,
      "outputs": [
        {
          "output_type": "display_data",
          "data": {
            "image/png": "[encoded data removed]",
            "text/plain": [
              "<Figure size 576x576 with 4 Axes>"
            ]
          },
          "metadata": {
            "tags": []
          }
        }
      ]
    },
    {
      "cell_type": "markdown",
      "metadata": {
        "id": "3f5c9491-b30a-434c-915b-f1e74e813647"
      },
      "source": [
        "#### 2.3 Persistence"
      ],
      "id": "3f5c9491-b30a-434c-915b-f1e74e813647"
    },
    {
      "cell_type": "code",
      "metadata": {
        "id": "a77dcf6d-688f-4f9e-ab7d-c9861da5fedf"
      },
      "source": [
        "cubical_persistence = CubicalPersistence(n_jobs=-1)"
      ],
      "id": "a77dcf6d-688f-4f9e-ab7d-c9861da5fedf",
      "execution_count": null,
      "outputs": []
    },
    {
      "cell_type": "code",
      "metadata": {
        "id": "45d263e3-9a9f-4fd5-a84e-44fbff91d598"
      },
      "source": [
        "X_pers = cubical_persistence.fit_transform(X_filt)"
      ],
      "id": "45d263e3-9a9f-4fd5-a84e-44fbff91d598",
      "execution_count": null,
      "outputs": []
    },
    {
      "cell_type": "code",
      "metadata": {
        "colab": {
          "base_uri": "https://localhost:8080/",
          "height": 517
        },
        "id": "1b559c69-1d70-468a-901e-caed048f255e",
        "outputId": "ba2a4395-4bb5-4054-eec0-e62d2a1c5c23"
      },
      "source": [
        "cubical_persistence.plot(X_pers[2][None, :, :])"
      ],
      "id": "1b559c69-1d70-468a-901e-caed048f255e",
      "execution_count": null,
      "outputs": [
        {
          "output_type": "display_data",
          "data": {
            "text/html": [
              "<html>\n",
              "<head><meta charset=\"utf-8\" /></head>\n",
              "<body>\n",
              "    <div>            <script src=\"https://cdnjs.cloudflare.com/ajax/libs/mathjax/2.7.5/MathJax.js?config=TeX-AMS-MML_SVG\"></script><script type=\"text/javascript\">if (window.MathJax) {MathJax.Hub.Config({SVG: {font: \"STIX-Web\"}});}</script>                <script type=\"text/javascript\">window.PlotlyConfig = {MathJaxConfig: 'local'};</script>\n",
              "        <script src=\"https://cdn.plot.ly/plotly-latest.min.js\"></script>                <div id=\"9ba0c2f7-1128-46e8-b853-af3e69b6a2a0\" class=\"plotly-graph-div\" style=\"height:500px; width:500px;\"></div>            <script type=\"text/javascript\">                                    window.PLOTLYENV=window.PLOTLYENV || {};                                    if (document.getElementById(\"9ba0c2f7-1128-46e8-b853-af3e69b6a2a0\")) {                    Plotly.newPlot(                        \"9ba0c2f7-1128-46e8-b853-af3e69b6a2a0\",                        [{\"hoverinfo\": \"none\", \"line\": {\"color\": \"black\", \"dash\": \"dash\", \"width\": 1}, \"mode\": \"lines\", \"showlegend\": false, \"type\": \"scatter\", \"x\": [14.9761914295404, 17.945648768830825], \"y\": [14.9761914295404, 17.945648768830825]}, {\"hoverinfo\": \"text\", \"hovertext\": [\"(15.033296378372908, 17.88854381999832)\"], \"mode\": \"markers\", \"name\": \"H0\", \"type\": \"scatter\", \"x\": [15.033296378372908], \"y\": [17.88854381999832]}, {\"hoverinfo\": \"text\", \"hovertext\": [], \"mode\": \"markers\", \"name\": \"H1\", \"type\": \"scatter\", \"x\": [], \"y\": []}],                        {\"height\": 500, \"plot_bgcolor\": \"white\", \"template\": {\"data\": {\"bar\": [{\"error_x\": {\"color\": \"#2a3f5f\"}, \"error_y\": {\"color\": \"#2a3f5f\"}, \"marker\": {\"line\": {\"color\": \"#E5ECF6\", \"width\": 0.5}}, \"type\": \"bar\"}], \"barpolar\": [{\"marker\": {\"line\": {\"color\": \"#E5ECF6\", \"width\": 0.5}}, \"type\": \"barpolar\"}], \"carpet\": [{\"aaxis\": {\"endlinecolor\": \"#2a3f5f\", \"gridcolor\": \"white\", \"linecolor\": \"white\", \"minorgridcolor\": \"white\", \"startlinecolor\": \"#2a3f5f\"}, \"baxis\": {\"endlinecolor\": \"#2a3f5f\", \"gridcolor\": \"white\", \"linecolor\": \"white\", \"minorgridcolor\": \"white\", \"startlinecolor\": \"#2a3f5f\"}, \"type\": \"carpet\"}], \"choropleth\": [{\"colorbar\": {\"outlinewidth\": 0, \"ticks\": \"\"}, \"type\": \"choropleth\"}], \"contour\": [{\"colorbar\": {\"outlinewidth\": 0, \"ticks\": \"\"}, \"colorscale\": [[0.0, \"#0d0887\"], [0.1111111111111111, \"#46039f\"], [0.2222222222222222, \"#7201a8\"], [0.3333333333333333, \"#9c179e\"], [0.4444444444444444, \"#bd3786\"], [0.5555555555555556, \"#d8576b\"], [0.6666666666666666, \"#ed7953\"], [0.7777777777777778, \"#fb9f3a\"], [0.8888888888888888, \"#fdca26\"], [1.0, \"#f0f921\"]], \"type\": \"contour\"}], \"contourcarpet\": [{\"colorbar\": {\"outlinewidth\": 0, \"ticks\": \"\"}, \"type\": \"contourcarpet\"}], \"heatmap\": [{\"colorbar\": {\"outlinewidth\": 0, \"ticks\": \"\"}, \"colorscale\": [[0.0, \"#0d0887\"], [0.1111111111111111, \"#46039f\"], [0.2222222222222222, \"#7201a8\"], [0.3333333333333333, \"#9c179e\"], [0.4444444444444444, \"#bd3786\"], [0.5555555555555556, \"#d8576b\"], [0.6666666666666666, \"#ed7953\"], [0.7777777777777778, \"#fb9f3a\"], [0.8888888888888888, \"#fdca26\"], [1.0, \"#f0f921\"]], \"type\": \"heatmap\"}], \"heatmapgl\": [{\"colorbar\": {\"outlinewidth\": 0, \"ticks\": \"\"}, \"colorscale\": [[0.0, \"#0d0887\"], [0.1111111111111111, \"#46039f\"], [0.2222222222222222, \"#7201a8\"], [0.3333333333333333, \"#9c179e\"], [0.4444444444444444, \"#bd3786\"], [0.5555555555555556, \"#d8576b\"], [0.6666666666666666, \"#ed7953\"], [0.7777777777777778, \"#fb9f3a\"], [0.8888888888888888, \"#fdca26\"], [1.0, \"#f0f921\"]], \"type\": \"heatmapgl\"}], \"histogram\": [{\"marker\": {\"colorbar\": {\"outlinewidth\": 0, \"ticks\": \"\"}}, \"type\": \"histogram\"}], \"histogram2d\": [{\"colorbar\": {\"outlinewidth\": 0, \"ticks\": \"\"}, \"colorscale\": [[0.0, \"#0d0887\"], [0.1111111111111111, \"#46039f\"], [0.2222222222222222, \"#7201a8\"], [0.3333333333333333, \"#9c179e\"], [0.4444444444444444, \"#bd3786\"], [0.5555555555555556, \"#d8576b\"], [0.6666666666666666, \"#ed7953\"], [0.7777777777777778, \"#fb9f3a\"], [0.8888888888888888, \"#fdca26\"], [1.0, \"#f0f921\"]], \"type\": \"histogram2d\"}], \"histogram2dcontour\": [{\"colorbar\": {\"outlinewidth\": 0, \"ticks\": \"\"}, \"colorscale\": [[0.0, \"#0d0887\"], [0.1111111111111111, \"#46039f\"], [0.2222222222222222, \"#7201a8\"], [0.3333333333333333, \"#9c179e\"], [0.4444444444444444, \"#bd3786\"], [0.5555555555555556, \"#d8576b\"], [0.6666666666666666, \"#ed7953\"], [0.7777777777777778, \"#fb9f3a\"], [0.8888888888888888, \"#fdca26\"], [1.0, \"#f0f921\"]], \"type\": \"histogram2dcontour\"}], \"mesh3d\": [{\"colorbar\": {\"outlinewidth\": 0, \"ticks\": \"\"}, \"type\": \"mesh3d\"}], \"parcoords\": [{\"line\": {\"colorbar\": {\"outlinewidth\": 0, \"ticks\": \"\"}}, \"type\": \"parcoords\"}], \"pie\": [{\"automargin\": true, \"type\": \"pie\"}], \"scatter\": [{\"marker\": {\"colorbar\": {\"outlinewidth\": 0, \"ticks\": \"\"}}, \"type\": \"scatter\"}], \"scatter3d\": [{\"line\": {\"colorbar\": {\"outlinewidth\": 0, \"ticks\": \"\"}}, \"marker\": {\"colorbar\": {\"outlinewidth\": 0, \"ticks\": \"\"}}, \"type\": \"scatter3d\"}], \"scattercarpet\": [{\"marker\": {\"colorbar\": {\"outlinewidth\": 0, \"ticks\": \"\"}}, \"type\": \"scattercarpet\"}], \"scattergeo\": [{\"marker\": {\"colorbar\": {\"outlinewidth\": 0, \"ticks\": \"\"}}, \"type\": \"scattergeo\"}], \"scattergl\": [{\"marker\": {\"colorbar\": {\"outlinewidth\": 0, \"ticks\": \"\"}}, \"type\": \"scattergl\"}], \"scattermapbox\": [{\"marker\": {\"colorbar\": {\"outlinewidth\": 0, \"ticks\": \"\"}}, \"type\": \"scattermapbox\"}], \"scatterpolar\": [{\"marker\": {\"colorbar\": {\"outlinewidth\": 0, \"ticks\": \"\"}}, \"type\": \"scatterpolar\"}], \"scatterpolargl\": [{\"marker\": {\"colorbar\": {\"outlinewidth\": 0, \"ticks\": \"\"}}, \"type\": \"scatterpolargl\"}], \"scatterternary\": [{\"marker\": {\"colorbar\": {\"outlinewidth\": 0, \"ticks\": \"\"}}, \"type\": \"scatterternary\"}], \"surface\": [{\"colorbar\": {\"outlinewidth\": 0, \"ticks\": \"\"}, \"colorscale\": [[0.0, \"#0d0887\"], [0.1111111111111111, \"#46039f\"], [0.2222222222222222, \"#7201a8\"], [0.3333333333333333, \"#9c179e\"], [0.4444444444444444, \"#bd3786\"], [0.5555555555555556, \"#d8576b\"], [0.6666666666666666, \"#ed7953\"], [0.7777777777777778, \"#fb9f3a\"], [0.8888888888888888, \"#fdca26\"], [1.0, \"#f0f921\"]], \"type\": \"surface\"}], \"table\": [{\"cells\": {\"fill\": {\"color\": \"#EBF0F8\"}, \"line\": {\"color\": \"white\"}}, \"header\": {\"fill\": {\"color\": \"#C8D4E3\"}, \"line\": {\"color\": \"white\"}}, \"type\": \"table\"}]}, \"layout\": {\"annotationdefaults\": {\"arrowcolor\": \"#2a3f5f\", \"arrowhead\": 0, \"arrowwidth\": 1}, \"autotypenumbers\": \"strict\", \"coloraxis\": {\"colorbar\": {\"outlinewidth\": 0, \"ticks\": \"\"}}, \"colorscale\": {\"diverging\": [[0, \"#8e0152\"], [0.1, \"#c51b7d\"], [0.2, \"#de77ae\"], [0.3, \"#f1b6da\"], [0.4, \"#fde0ef\"], [0.5, \"#f7f7f7\"], [0.6, \"#e6f5d0\"], [0.7, \"#b8e186\"], [0.8, \"#7fbc41\"], [0.9, \"#4d9221\"], [1, \"#276419\"]], \"sequential\": [[0.0, \"#0d0887\"], [0.1111111111111111, \"#46039f\"], [0.2222222222222222, \"#7201a8\"], [0.3333333333333333, \"#9c179e\"], [0.4444444444444444, \"#bd3786\"], [0.5555555555555556, \"#d8576b\"], [0.6666666666666666, \"#ed7953\"], [0.7777777777777778, \"#fb9f3a\"], [0.8888888888888888, \"#fdca26\"], [1.0, \"#f0f921\"]], \"sequentialminus\": [[0.0, \"#0d0887\"], [0.1111111111111111, \"#46039f\"], [0.2222222222222222, \"#7201a8\"], [0.3333333333333333, \"#9c179e\"], [0.4444444444444444, \"#bd3786\"], [0.5555555555555556, \"#d8576b\"], [0.6666666666666666, \"#ed7953\"], [0.7777777777777778, \"#fb9f3a\"], [0.8888888888888888, \"#fdca26\"], [1.0, \"#f0f921\"]]}, \"colorway\": [\"#636efa\", \"#EF553B\", \"#00cc96\", \"#ab63fa\", \"#FFA15A\", \"#19d3f3\", \"#FF6692\", \"#B6E880\", \"#FF97FF\", \"#FECB52\"], \"font\": {\"color\": \"#2a3f5f\"}, \"geo\": {\"bgcolor\": \"white\", \"lakecolor\": \"white\", \"landcolor\": \"#E5ECF6\", \"showlakes\": true, \"showland\": true, \"subunitcolor\": \"white\"}, \"hoverlabel\": {\"align\": \"left\"}, \"hovermode\": \"closest\", \"mapbox\": {\"style\": \"light\"}, \"paper_bgcolor\": \"white\", \"plot_bgcolor\": \"#E5ECF6\", \"polar\": {\"angularaxis\": {\"gridcolor\": \"white\", \"linecolor\": \"white\", \"ticks\": \"\"}, \"bgcolor\": \"#E5ECF6\", \"radialaxis\": {\"gridcolor\": \"white\", \"linecolor\": \"white\", \"ticks\": \"\"}}, \"scene\": {\"xaxis\": {\"backgroundcolor\": \"#E5ECF6\", \"gridcolor\": \"white\", \"gridwidth\": 2, \"linecolor\": \"white\", \"showbackground\": true, \"ticks\": \"\", \"zerolinecolor\": \"white\"}, \"yaxis\": {\"backgroundcolor\": \"#E5ECF6\", \"gridcolor\": \"white\", \"gridwidth\": 2, \"linecolor\": \"white\", \"showbackground\": true, \"ticks\": \"\", \"zerolinecolor\": \"white\"}, \"zaxis\": {\"backgroundcolor\": \"#E5ECF6\", \"gridcolor\": \"white\", \"gridwidth\": 2, \"linecolor\": \"white\", \"showbackground\": true, \"ticks\": \"\", \"zerolinecolor\": \"white\"}}, \"shapedefaults\": {\"line\": {\"color\": \"#2a3f5f\"}}, \"ternary\": {\"aaxis\": {\"gridcolor\": \"white\", \"linecolor\": \"white\", \"ticks\": \"\"}, \"baxis\": {\"gridcolor\": \"white\", \"linecolor\": \"white\", \"ticks\": \"\"}, \"bgcolor\": \"#E5ECF6\", \"caxis\": {\"gridcolor\": \"white\", \"linecolor\": \"white\", \"ticks\": \"\"}}, \"title\": {\"x\": 0.05}, \"xaxis\": {\"automargin\": true, \"gridcolor\": \"white\", \"linecolor\": \"white\", \"ticks\": \"\", \"title\": {\"standoff\": 15}, \"zerolinecolor\": \"white\", \"zerolinewidth\": 2}, \"yaxis\": {\"automargin\": true, \"gridcolor\": \"white\", \"linecolor\": \"white\", \"ticks\": \"\", \"title\": {\"standoff\": 15}, \"zerolinecolor\": \"white\", \"zerolinewidth\": 2}}}, \"width\": 500, \"xaxis\": {\"autorange\": false, \"exponentformat\": \"e\", \"linecolor\": \"black\", \"linewidth\": 1, \"mirror\": false, \"range\": [14.9761914295404, 17.945648768830825], \"showexponent\": \"all\", \"showline\": true, \"side\": \"bottom\", \"ticks\": \"outside\", \"title\": {\"text\": \"Birth\"}, \"type\": \"linear\", \"zeroline\": true}, \"yaxis\": {\"autorange\": false, \"exponentformat\": \"e\", \"linecolor\": \"black\", \"linewidth\": 1, \"mirror\": false, \"range\": [14.9761914295404, 17.945648768830825], \"scaleanchor\": \"x\", \"scaleratio\": 1, \"showexponent\": \"all\", \"showline\": true, \"side\": \"left\", \"ticks\": \"outside\", \"title\": {\"text\": \"Death\"}, \"type\": \"linear\", \"zeroline\": true}},                        {\"responsive\": true}                    ).then(function(){\n",
              "                            \n",
              "var gd = document.getElementById('9ba0c2f7-1128-46e8-b853-af3e69b6a2a0');\n",
              "var x = new MutationObserver(function (mutations, observer) {{\n",
              "        var display = window.getComputedStyle(gd).display;\n",
              "        if (!display || display === 'none') {{\n",
              "            console.log([gd, 'removed!']);\n",
              "            Plotly.purge(gd);\n",
              "            observer.disconnect();\n",
              "        }}\n",
              "}});\n",
              "\n",
              "// Listen for the removal of the full notebook cells\n",
              "var notebookContainer = gd.closest('#notebook-container');\n",
              "if (notebookContainer) {{\n",
              "    x.observe(notebookContainer, {childList: true});\n",
              "}}\n",
              "\n",
              "// Listen for the clearing of the current output cell\n",
              "var outputEl = gd.closest('.output');\n",
              "if (outputEl) {{\n",
              "    x.observe(outputEl, {childList: true});\n",
              "}}\n",
              "\n",
              "                        })                };                            </script>        </div>\n",
              "</body>\n",
              "</html>"
            ]
          },
          "metadata": {
            "tags": []
          }
        }
      ]
    },
    {
      "cell_type": "markdown",
      "metadata": {
        "id": "364d0b39-f6ba-45f0-bff2-57b18b8a3da3"
      },
      "source": [
        "#### 2.4 Scaling"
      ],
      "id": "364d0b39-f6ba-45f0-bff2-57b18b8a3da3"
    },
    {
      "cell_type": "code",
      "metadata": {
        "id": "1d33e987-3050-4426-8009-cbdf6659cc98"
      },
      "source": [
        "scaler = Scaler()"
      ],
      "id": "1d33e987-3050-4426-8009-cbdf6659cc98",
      "execution_count": null,
      "outputs": []
    },
    {
      "cell_type": "code",
      "metadata": {
        "id": "ff183d4f-5222-4bc6-9d51-74bf01f01b33"
      },
      "source": [
        "X_scale = scaler.fit_transform(X_pers)"
      ],
      "id": "ff183d4f-5222-4bc6-9d51-74bf01f01b33",
      "execution_count": null,
      "outputs": []
    },
    {
      "cell_type": "code",
      "metadata": {
        "colab": {
          "base_uri": "https://localhost:8080/",
          "height": 517
        },
        "id": "58a4443d-429f-4a01-baa0-cddae7e36ffa",
        "outputId": "4b4336b8-86c1-4817-ef7d-b37196b504b3"
      },
      "source": [
        "scaler.plot(X_scale[0][None, :, :])"
      ],
      "id": "58a4443d-429f-4a01-baa0-cddae7e36ffa",
      "execution_count": null,
      "outputs": [
        {
          "output_type": "display_data",
          "data": {
            "text/html": [
              "<html>\n",
              "<head><meta charset=\"utf-8\" /></head>\n",
              "<body>\n",
              "    <div>            <script src=\"https://cdnjs.cloudflare.com/ajax/libs/mathjax/2.7.5/MathJax.js?config=TeX-AMS-MML_SVG\"></script><script type=\"text/javascript\">if (window.MathJax) {MathJax.Hub.Config({SVG: {font: \"STIX-Web\"}});}</script>                <script type=\"text/javascript\">window.PlotlyConfig = {MathJaxConfig: 'local'};</script>\n",
              "        <script src=\"https://cdn.plot.ly/plotly-latest.min.js\"></script>                <div id=\"e5cdeb1c-25da-47b8-836d-4525537cb3a8\" class=\"plotly-graph-div\" style=\"height:500px; width:500px;\"></div>            <script type=\"text/javascript\">                                    window.PLOTLYENV=window.PLOTLYENV || {};                                    if (document.getElementById(\"e5cdeb1c-25da-47b8-836d-4525537cb3a8\")) {                    Plotly.newPlot(                        \"e5cdeb1c-25da-47b8-836d-4525537cb3a8\",                        [{\"hoverinfo\": \"none\", \"line\": {\"color\": \"black\", \"dash\": \"dash\", \"width\": 1}, \"mode\": \"lines\", \"showlegend\": false, \"type\": \"scatter\", \"x\": [0.5544215182150802, 0.637426909756743], \"y\": [0.5544215182150802, 0.637426909756743]}, {\"hoverinfo\": \"text\", \"hovertext\": [\"(0.5560177757447275, 0.6358306522270957)\", \"(0.5932638115201812, 0.6168463386206317)\"], \"mode\": \"markers\", \"name\": \"H0\", \"type\": \"scatter\", \"x\": [0.5560177757447275, 0.5932638115201812], \"y\": [0.6358306522270957, 0.6168463386206317]}, {\"hoverinfo\": \"text\", \"hovertext\": [], \"mode\": \"markers\", \"name\": \"H1\", \"type\": \"scatter\", \"x\": [], \"y\": []}],                        {\"height\": 500, \"plot_bgcolor\": \"white\", \"template\": {\"data\": {\"bar\": [{\"error_x\": {\"color\": \"#2a3f5f\"}, \"error_y\": {\"color\": \"#2a3f5f\"}, \"marker\": {\"line\": {\"color\": \"#E5ECF6\", \"width\": 0.5}}, \"type\": \"bar\"}], \"barpolar\": [{\"marker\": {\"line\": {\"color\": \"#E5ECF6\", \"width\": 0.5}}, \"type\": \"barpolar\"}], \"carpet\": [{\"aaxis\": {\"endlinecolor\": \"#2a3f5f\", \"gridcolor\": \"white\", \"linecolor\": \"white\", \"minorgridcolor\": \"white\", \"startlinecolor\": \"#2a3f5f\"}, \"baxis\": {\"endlinecolor\": \"#2a3f5f\", \"gridcolor\": \"white\", \"linecolor\": \"white\", \"minorgridcolor\": \"white\", \"startlinecolor\": \"#2a3f5f\"}, \"type\": \"carpet\"}], \"choropleth\": [{\"colorbar\": {\"outlinewidth\": 0, \"ticks\": \"\"}, \"type\": \"choropleth\"}], \"contour\": [{\"colorbar\": {\"outlinewidth\": 0, \"ticks\": \"\"}, \"colorscale\": [[0.0, \"#0d0887\"], [0.1111111111111111, \"#46039f\"], [0.2222222222222222, \"#7201a8\"], [0.3333333333333333, \"#9c179e\"], [0.4444444444444444, \"#bd3786\"], [0.5555555555555556, \"#d8576b\"], [0.6666666666666666, \"#ed7953\"], [0.7777777777777778, \"#fb9f3a\"], [0.8888888888888888, \"#fdca26\"], [1.0, \"#f0f921\"]], \"type\": \"contour\"}], \"contourcarpet\": [{\"colorbar\": {\"outlinewidth\": 0, \"ticks\": \"\"}, \"type\": \"contourcarpet\"}], \"heatmap\": [{\"colorbar\": {\"outlinewidth\": 0, \"ticks\": \"\"}, \"colorscale\": [[0.0, \"#0d0887\"], [0.1111111111111111, \"#46039f\"], [0.2222222222222222, \"#7201a8\"], [0.3333333333333333, \"#9c179e\"], [0.4444444444444444, \"#bd3786\"], [0.5555555555555556, \"#d8576b\"], [0.6666666666666666, \"#ed7953\"], [0.7777777777777778, \"#fb9f3a\"], [0.8888888888888888, \"#fdca26\"], [1.0, \"#f0f921\"]], \"type\": \"heatmap\"}], \"heatmapgl\": [{\"colorbar\": {\"outlinewidth\": 0, \"ticks\": \"\"}, \"colorscale\": [[0.0, \"#0d0887\"], [0.1111111111111111, \"#46039f\"], [0.2222222222222222, \"#7201a8\"], [0.3333333333333333, \"#9c179e\"], [0.4444444444444444, \"#bd3786\"], [0.5555555555555556, \"#d8576b\"], [0.6666666666666666, \"#ed7953\"], [0.7777777777777778, \"#fb9f3a\"], [0.8888888888888888, \"#fdca26\"], [1.0, \"#f0f921\"]], \"type\": \"heatmapgl\"}], \"histogram\": [{\"marker\": {\"colorbar\": {\"outlinewidth\": 0, \"ticks\": \"\"}}, \"type\": \"histogram\"}], \"histogram2d\": [{\"colorbar\": {\"outlinewidth\": 0, \"ticks\": \"\"}, \"colorscale\": [[0.0, \"#0d0887\"], [0.1111111111111111, \"#46039f\"], [0.2222222222222222, \"#7201a8\"], [0.3333333333333333, \"#9c179e\"], [0.4444444444444444, \"#bd3786\"], [0.5555555555555556, \"#d8576b\"], [0.6666666666666666, \"#ed7953\"], [0.7777777777777778, \"#fb9f3a\"], [0.8888888888888888, \"#fdca26\"], [1.0, \"#f0f921\"]], \"type\": \"histogram2d\"}], \"histogram2dcontour\": [{\"colorbar\": {\"outlinewidth\": 0, \"ticks\": \"\"}, \"colorscale\": [[0.0, \"#0d0887\"], [0.1111111111111111, \"#46039f\"], [0.2222222222222222, \"#7201a8\"], [0.3333333333333333, \"#9c179e\"], [0.4444444444444444, \"#bd3786\"], [0.5555555555555556, \"#d8576b\"], [0.6666666666666666, \"#ed7953\"], [0.7777777777777778, \"#fb9f3a\"], [0.8888888888888888, \"#fdca26\"], [1.0, \"#f0f921\"]], \"type\": \"histogram2dcontour\"}], \"mesh3d\": [{\"colorbar\": {\"outlinewidth\": 0, \"ticks\": \"\"}, \"type\": \"mesh3d\"}], \"parcoords\": [{\"line\": {\"colorbar\": {\"outlinewidth\": 0, \"ticks\": \"\"}}, \"type\": \"parcoords\"}], \"pie\": [{\"automargin\": true, \"type\": \"pie\"}], \"scatter\": [{\"marker\": {\"colorbar\": {\"outlinewidth\": 0, \"ticks\": \"\"}}, \"type\": \"scatter\"}], \"scatter3d\": [{\"line\": {\"colorbar\": {\"outlinewidth\": 0, \"ticks\": \"\"}}, \"marker\": {\"colorbar\": {\"outlinewidth\": 0, \"ticks\": \"\"}}, \"type\": \"scatter3d\"}], \"scattercarpet\": [{\"marker\": {\"colorbar\": {\"outlinewidth\": 0, \"ticks\": \"\"}}, \"type\": \"scattercarpet\"}], \"scattergeo\": [{\"marker\": {\"colorbar\": {\"outlinewidth\": 0, \"ticks\": \"\"}}, \"type\": \"scattergeo\"}], \"scattergl\": [{\"marker\": {\"colorbar\": {\"outlinewidth\": 0, \"ticks\": \"\"}}, \"type\": \"scattergl\"}], \"scattermapbox\": [{\"marker\": {\"colorbar\": {\"outlinewidth\": 0, \"ticks\": \"\"}}, \"type\": \"scattermapbox\"}], \"scatterpolar\": [{\"marker\": {\"colorbar\": {\"outlinewidth\": 0, \"ticks\": \"\"}}, \"type\": \"scatterpolar\"}], \"scatterpolargl\": [{\"marker\": {\"colorbar\": {\"outlinewidth\": 0, \"ticks\": \"\"}}, \"type\": \"scatterpolargl\"}], \"scatterternary\": [{\"marker\": {\"colorbar\": {\"outlinewidth\": 0, \"ticks\": \"\"}}, \"type\": \"scatterternary\"}], \"surface\": [{\"colorbar\": {\"outlinewidth\": 0, \"ticks\": \"\"}, \"colorscale\": [[0.0, \"#0d0887\"], [0.1111111111111111, \"#46039f\"], [0.2222222222222222, \"#7201a8\"], [0.3333333333333333, \"#9c179e\"], [0.4444444444444444, \"#bd3786\"], [0.5555555555555556, \"#d8576b\"], [0.6666666666666666, \"#ed7953\"], [0.7777777777777778, \"#fb9f3a\"], [0.8888888888888888, \"#fdca26\"], [1.0, \"#f0f921\"]], \"type\": \"surface\"}], \"table\": [{\"cells\": {\"fill\": {\"color\": \"#EBF0F8\"}, \"line\": {\"color\": \"white\"}}, \"header\": {\"fill\": {\"color\": \"#C8D4E3\"}, \"line\": {\"color\": \"white\"}}, \"type\": \"table\"}]}, \"layout\": {\"annotationdefaults\": {\"arrowcolor\": \"#2a3f5f\", \"arrowhead\": 0, \"arrowwidth\": 1}, \"autotypenumbers\": \"strict\", \"coloraxis\": {\"colorbar\": {\"outlinewidth\": 0, \"ticks\": \"\"}}, \"colorscale\": {\"diverging\": [[0, \"#8e0152\"], [0.1, \"#c51b7d\"], [0.2, \"#de77ae\"], [0.3, \"#f1b6da\"], [0.4, \"#fde0ef\"], [0.5, \"#f7f7f7\"], [0.6, \"#e6f5d0\"], [0.7, \"#b8e186\"], [0.8, \"#7fbc41\"], [0.9, \"#4d9221\"], [1, \"#276419\"]], \"sequential\": [[0.0, \"#0d0887\"], [0.1111111111111111, \"#46039f\"], [0.2222222222222222, \"#7201a8\"], [0.3333333333333333, \"#9c179e\"], [0.4444444444444444, \"#bd3786\"], [0.5555555555555556, \"#d8576b\"], [0.6666666666666666, \"#ed7953\"], [0.7777777777777778, \"#fb9f3a\"], [0.8888888888888888, \"#fdca26\"], [1.0, \"#f0f921\"]], \"sequentialminus\": [[0.0, \"#0d0887\"], [0.1111111111111111, \"#46039f\"], [0.2222222222222222, \"#7201a8\"], [0.3333333333333333, \"#9c179e\"], [0.4444444444444444, \"#bd3786\"], [0.5555555555555556, \"#d8576b\"], [0.6666666666666666, \"#ed7953\"], [0.7777777777777778, \"#fb9f3a\"], [0.8888888888888888, \"#fdca26\"], [1.0, \"#f0f921\"]]}, \"colorway\": [\"#636efa\", \"#EF553B\", \"#00cc96\", \"#ab63fa\", \"#FFA15A\", \"#19d3f3\", \"#FF6692\", \"#B6E880\", \"#FF97FF\", \"#FECB52\"], \"font\": {\"color\": \"#2a3f5f\"}, \"geo\": {\"bgcolor\": \"white\", \"lakecolor\": \"white\", \"landcolor\": \"#E5ECF6\", \"showlakes\": true, \"showland\": true, \"subunitcolor\": \"white\"}, \"hoverlabel\": {\"align\": \"left\"}, \"hovermode\": \"closest\", \"mapbox\": {\"style\": \"light\"}, \"paper_bgcolor\": \"white\", \"plot_bgcolor\": \"#E5ECF6\", \"polar\": {\"angularaxis\": {\"gridcolor\": \"white\", \"linecolor\": \"white\", \"ticks\": \"\"}, \"bgcolor\": \"#E5ECF6\", \"radialaxis\": {\"gridcolor\": \"white\", \"linecolor\": \"white\", \"ticks\": \"\"}}, \"scene\": {\"xaxis\": {\"backgroundcolor\": \"#E5ECF6\", \"gridcolor\": \"white\", \"gridwidth\": 2, \"linecolor\": \"white\", \"showbackground\": true, \"ticks\": \"\", \"zerolinecolor\": \"white\"}, \"yaxis\": {\"backgroundcolor\": \"#E5ECF6\", \"gridcolor\": \"white\", \"gridwidth\": 2, \"linecolor\": \"white\", \"showbackground\": true, \"ticks\": \"\", \"zerolinecolor\": \"white\"}, \"zaxis\": {\"backgroundcolor\": \"#E5ECF6\", \"gridcolor\": \"white\", \"gridwidth\": 2, \"linecolor\": \"white\", \"showbackground\": true, \"ticks\": \"\", \"zerolinecolor\": \"white\"}}, \"shapedefaults\": {\"line\": {\"color\": \"#2a3f5f\"}}, \"ternary\": {\"aaxis\": {\"gridcolor\": \"white\", \"linecolor\": \"white\", \"ticks\": \"\"}, \"baxis\": {\"gridcolor\": \"white\", \"linecolor\": \"white\", \"ticks\": \"\"}, \"bgcolor\": \"#E5ECF6\", \"caxis\": {\"gridcolor\": \"white\", \"linecolor\": \"white\", \"ticks\": \"\"}}, \"title\": {\"x\": 0.05}, \"xaxis\": {\"automargin\": true, \"gridcolor\": \"white\", \"linecolor\": \"white\", \"ticks\": \"\", \"title\": {\"standoff\": 15}, \"zerolinecolor\": \"white\", \"zerolinewidth\": 2}, \"yaxis\": {\"automargin\": true, \"gridcolor\": \"white\", \"linecolor\": \"white\", \"ticks\": \"\", \"title\": {\"standoff\": 15}, \"zerolinecolor\": \"white\", \"zerolinewidth\": 2}}}, \"width\": 500, \"xaxis\": {\"autorange\": false, \"exponentformat\": \"e\", \"linecolor\": \"black\", \"linewidth\": 1, \"mirror\": false, \"range\": [0.5544215182150802, 0.637426909756743], \"showexponent\": \"all\", \"showline\": true, \"side\": \"bottom\", \"ticks\": \"outside\", \"title\": {\"text\": \"Birth\"}, \"type\": \"linear\", \"zeroline\": true}, \"yaxis\": {\"autorange\": false, \"exponentformat\": \"e\", \"linecolor\": \"black\", \"linewidth\": 1, \"mirror\": false, \"range\": [0.5544215182150802, 0.637426909756743], \"scaleanchor\": \"x\", \"scaleratio\": 1, \"showexponent\": \"all\", \"showline\": true, \"side\": \"left\", \"ticks\": \"outside\", \"title\": {\"text\": \"Death\"}, \"type\": \"linear\", \"zeroline\": true}},                        {\"responsive\": true}                    ).then(function(){\n",
              "                            \n",
              "var gd = document.getElementById('e5cdeb1c-25da-47b8-836d-4525537cb3a8');\n",
              "var x = new MutationObserver(function (mutations, observer) {{\n",
              "        var display = window.getComputedStyle(gd).display;\n",
              "        if (!display || display === 'none') {{\n",
              "            console.log([gd, 'removed!']);\n",
              "            Plotly.purge(gd);\n",
              "            observer.disconnect();\n",
              "        }}\n",
              "}});\n",
              "\n",
              "// Listen for the removal of the full notebook cells\n",
              "var notebookContainer = gd.closest('#notebook-container');\n",
              "if (notebookContainer) {{\n",
              "    x.observe(notebookContainer, {childList: true});\n",
              "}}\n",
              "\n",
              "// Listen for the clearing of the current output cell\n",
              "var outputEl = gd.closest('.output');\n",
              "if (outputEl) {{\n",
              "    x.observe(outputEl, {childList: true});\n",
              "}}\n",
              "\n",
              "                        })                };                            </script>        </div>\n",
              "</body>\n",
              "</html>"
            ]
          },
          "metadata": {
            "tags": []
          }
        }
      ]
    },
    {
      "cell_type": "markdown",
      "metadata": {
        "id": "0a62a2c9-dfff-4d7d-aba9-3ed55c78b347"
      },
      "source": [
        "### 3. Vector representation"
      ],
      "id": "0a62a2c9-dfff-4d7d-aba9-3ed55c78b347"
    },
    {
      "cell_type": "code",
      "metadata": {
        "id": "62fb90dd-acf1-4782-9455-16c888b5e035"
      },
      "source": [
        "heat = HeatKernel(sigma=.15, n_bins=60, n_jobs=-1)"
      ],
      "id": "62fb90dd-acf1-4782-9455-16c888b5e035",
      "execution_count": null,
      "outputs": []
    },
    {
      "cell_type": "code",
      "metadata": {
        "id": "b9ee89ce-811a-4283-ae1a-2bdb2f3a4ed7"
      },
      "source": [
        "X_heat = heat.fit_transform(X_scale)"
      ],
      "id": "b9ee89ce-811a-4283-ae1a-2bdb2f3a4ed7",
      "execution_count": null,
      "outputs": []
    },
    {
      "cell_type": "code",
      "metadata": {
        "colab": {
          "base_uri": "https://localhost:8080/",
          "height": 542
        },
        "id": "7dd3b27f-ed3c-4e9a-b043-a7a5d564c88f",
        "outputId": "756eae9c-64f8-4968-cbf5-872c492a3d51"
      },
      "source": [
        "heat.plot(X_heat[1][None, :, :], homology_dimension_idx=1, colorscale='jet')"
      ],
      "id": "7dd3b27f-ed3c-4e9a-b043-a7a5d564c88f",
      "execution_count": null,
      "outputs": [
        {
          "output_type": "display_data",
          "data": {
            "text/html": [
              "<html>\n",
              "<head><meta charset=\"utf-8\" /></head>\n",
              "<body>\n",
              "    <div>            <script src=\"https://cdnjs.cloudflare.com/ajax/libs/mathjax/2.7.5/MathJax.js?config=TeX-AMS-MML_SVG\"></script><script type=\"text/javascript\">if (window.MathJax) {MathJax.Hub.Config({SVG: {font: \"STIX-Web\"}});}</script>                <script type=\"text/javascript\">window.PlotlyConfig = {MathJaxConfig: 'local'};</script>\n",
              "        <script src=\"https://cdn.plot.ly/plotly-latest.min.js\"></script>                <div id=\"ba090702-aaae-434d-ab80-5d216becbea9\" class=\"plotly-graph-div\" style=\"height:525px; width:100%;\"></div>            <script type=\"text/javascript\">                                    window.PLOTLYENV=window.PLOTLYENV || {};                                    if (document.getElementById(\"ba090702-aaae-434d-ab80-5d216becbea9\")) {                    Plotly.newPlot(                        \"ba090702-aaae-434d-ab80-5d216becbea9\",                        [{\"colorscale\": [[0.0, \"rgb(0,0,131)\"], [0.2, \"rgb(0,60,170)\"], [0.4, \"rgb(5,255,255)\"], [0.6, \"rgb(255,255,0)\"], [0.8, \"rgb(250,0,0)\"], [1.0, \"rgb(128,0,0)\"]], \"type\": \"heatmap\", \"x\": [0.06896551724137931, 0.10286382232612507, 0.13676212741087085, 0.1706604324956166, 0.20455873758036236, 0.23845704266510812, 0.2723553477498539, 0.30625365283459965, 0.3401519579193454, 0.37405026300409117, 0.40794856808883695, 0.44184687317358273, 0.4757451782583285, 0.5096434833430742, 0.54354178842782, 0.5774400935125658, 0.6113383985973115, 0.6452367036820573, 0.6791350087668031, 0.7130333138515488, 0.7469316189362946, 0.7808299240210403, 0.8147282291057861, 0.8486265341905319, 0.8825248392752777, 0.9164231443600234, 0.9503214494447692, 0.9842197545295149, 1.0181180596142607, 1.0520163646990064, 1.085914669783752, 1.119812974868498, 1.1537112799532436, 1.1876095850379893, 1.2215078901227352, 1.2554061952074809, 1.2893045002922268, 1.3232028053769724, 1.357101110461718, 1.390999415546464, 1.4248977206312097, 1.4587960257159556, 1.4926943308007012, 1.526592635885447, 1.5604909409701928, 1.5943892460549385, 1.6282875511396844, 1.66218585622443, 1.696084161309176, 1.7299824663939216, 1.7638807714786673, 1.7977790765634132, 1.8316773816481589, 1.8655756867329047, 1.8994739918176504, 1.933372296902396, 1.967270601987142, 2.0011689070718877, 2.0350672121566338, 2.0689655172413794], \"y\": [2.0689655172413794, 2.0350672121566338, 2.0011689070718877, 1.967270601987142, 1.933372296902396, 1.8994739918176504, 1.8655756867329047, 1.8316773816481589, 1.7977790765634132, 1.7638807714786673, 1.7299824663939216, 1.696084161309176, 1.66218585622443, 1.6282875511396844, 1.5943892460549385, 1.5604909409701928, 1.526592635885447, 1.4926943308007012, 1.4587960257159556, 1.4248977206312097, 1.390999415546464, 1.357101110461718, 1.3232028053769724, 1.2893045002922268, 1.2554061952074809, 1.2215078901227352, 1.1876095850379893, 1.1537112799532436, 1.119812974868498, 1.085914669783752, 1.0520163646990064, 1.0181180596142607, 0.9842197545295149, 0.9503214494447692, 0.9164231443600234, 0.8825248392752777, 0.8486265341905319, 0.8147282291057861, 0.7808299240210403, 0.7469316189362946, 0.7130333138515488, 0.6791350087668031, 0.6452367036820573, 0.6113383985973115, 0.5774400935125658, 0.54354178842782, 0.5096434833430742, 0.4757451782583285, 0.44184687317358273, 0.40794856808883695, 0.37405026300409117, 0.3401519579193454, 0.30625365283459965, 0.2723553477498539, 0.23845704266510812, 0.20455873758036236, 0.1706604324956166, 0.13676212741087085, 0.10286382232612507, 0.06896551724137931], \"z\": [[0.0, 0.0, 0.0, 0.0, 0.0, 0.0, 0.0, 0.0, 0.0, 0.0, 0.0, 0.0, 0.0, 0.0, 0.0, 0.0, 0.0018052325618814968, 0.00441244982167413, 0.010248176437871022, 0.022616927252444883, 0.04742865418612205, 0.09450791780809523, 0.17894343979444027, 0.32194639100185535, 0.5503912661651046, 0.8940868336085559, 1.3800920632536338, 2.0242148668860986, 2.8211446544029455, 3.736063879979244, 4.701359095827557, 5.621506907549483, 6.387078677840001, 6.895598655866894, 7.073948273125358, 6.895598655866894, 6.387078677840001, 5.621506907549483, 4.701359095827557, 3.736063879979244, 2.8211446544029455, 2.0242148668860986, 1.3800920632536338, 0.8940868336085559, 0.5503912661651046, 0.32194639100185535, 0.17894343979444027, 0.09450791780809523, 0.04742865418612205, 0.022616927252444883, 0.010248176437871022, 0.00441244982167413, 0.0018052325618814968, 0.0, 0.0, 0.0, 0.0, 0.0, 0.0, 0.0], [0.0, 0.0, 0.0, 0.0, 0.0, 0.0, 0.0, 0.0, 0.0, 0.0, 0.0, 0.0, 0.0, 0.0, 0.0, 0.0, 0.0017597187237753788, 0.004301202367426055, 0.009989797626672282, 0.022046705339123777, 0.04623287468723667, 0.09212516770614669, 0.17443188659019962, 0.31382942245812634, 0.5365147055976666, 0.8715449604688097, 1.3452969415253855, 1.9731800087249822, 2.7500174634882137, 3.641869586026189, 4.582827610586007, 5.479776495244064, 6.226046536578783, 6.721745620255356, 6.895598655866894, 6.721745620255356, 6.226046536578783, 5.479776495244064, 4.582827610586007, 3.641869586026189, 2.7500174634882137, 1.9731800087249822, 1.3452969415253855, 0.8715449604688097, 0.5365147055976666, 0.31382942245812634, 0.17443188659019962, 0.09212516770614669, 0.04623287468723667, 0.022046705339123777, 0.009989797626672282, 0.004301202367426055, 0.0017597187237753788, 0.0, 0.0, 0.0, 0.0, 0.0, 0.0, 0.0], [0.0, 0.0, 0.0, 0.0, 0.0, 0.0, 0.0, 0.0, 0.0, 0.0, 0.0, 0.0, 0.0, 0.0, 0.0, 0.0, 0.0016299472316386645, 0.003984007669397659, 0.009253094125912948, 0.02042085808870732, 0.042823404154889104, 0.08533134303687089, 0.16156830453404722, 0.2906858871427671, 0.496949113120862, 0.8072723648226046, 1.2460872274330372, 1.82766668859777, 2.5472158084184566, 3.373297771701241, 4.244864293383165, 5.075667155066191, 5.766903073337676, 6.226046536578783, 6.387078677840001, 6.226046536578783, 5.766903073337676, 5.075667155066191, 4.244864293383165, 3.373297771701241, 2.5472158084184566, 1.82766668859777, 1.2460872274330372, 0.8072723648226046, 0.496949113120862, 0.2906858871427671, 0.16156830453404722, 0.08533134303687089, 0.042823404154889104, 0.02042085808870732, 0.009253094125912948, 0.003984007669397659, 0.0016299472316386645, 0.0, 0.0, 0.0, 0.0, 0.0, 0.0, 0.0], [0.0, 0.0, 0.0, 0.0, 0.0, 0.0, 0.0, 0.0, 0.0, 0.0, 0.0, 0.0, 0.0, 0.0, 0.0, 0.0, 0.0014345775406506493, 0.0035064742056415436, 0.00814399433116365, 0.01797316122033085, 0.03769048017158663, 0.07510330755381696, 0.14220230966159975, 0.25584352486054496, 0.4373835070799947, 0.710510611192092, 1.096727989390125, 1.6085978321038976, 2.24189993333323, 2.96896557586367, 3.736063879979244, 4.467284561817228, 5.075667155066191, 5.479776495244064, 5.621506907549483, 5.479776495244064, 5.075667155066191, 4.467284561817228, 3.736063879979244, 2.96896557586367, 2.24189993333323, 1.6085978321038976, 1.096727989390125, 0.710510611192092, 0.4373835070799947, 0.25584352486054496, 0.14220230966159975, 0.07510330755381696, 0.03769048017158663, 0.01797316122033085, 0.00814399433116365, 0.0035064742056415436, 0.0014345775406506493, 0.0, 0.0, 0.0, 0.0, 0.0, 0.0, 0.0], [0.0, 0.0, 0.0, 0.0, 0.0, 0.0, 0.0, 0.0, 0.0, 0.0, 0.0, 0.0, 0.0, 0.0, 0.0, 0.0, 0.0011997608969136517, 0.0029325223062233634, 0.006810957000473498, 0.015031251650780569, 0.03152117122596228, 0.06281013683727538, 0.11892614079641492, 0.21396616645554106, 0.36579105268268125, 0.5942117619964047, 0.9172117358147257, 1.3452969415253857, 1.8749379511313167, 2.4829949593302527, 3.124531943764867, 3.736063879979244, 4.244864293383165, 4.582827610586007, 4.701359095827557, 4.582827610586007, 4.244864293383165, 3.736063879979244, 3.124531943764867, 2.4829949593302527, 1.8749379511313167, 1.3452969415253857, 0.9172117358147257, 0.5942117619964047, 0.36579105268268125, 0.21396616645554106, 0.11892614079641492, 0.06281013683727538, 0.03152117122596228, 0.015031251650780569, 0.006810957000473498, 0.0029325223062233634, 0.0011997608969136517, 0.0, 0.0, 0.0, 0.0, 0.0, 0.0, 0.0], [0.0, 0.0, 0.0, 0.0, 0.0, 0.0, 0.0, 0.0, 0.0, 0.0, 0.0, 0.0, 0.0, 0.0, 0.0, 0.0, 0.0009534228847885069, 0.0023304092374560456, 0.005412513683573803, 0.011944996163598627, 0.025049162778583527, 0.04991379700022506, 0.09450791780809527, 0.17003407945196763, 0.290685887142767, 0.47220666530745253, 0.7288874486340988, 1.0690770920987946, 1.489970838994371, 1.9731800087249813, 2.4829949593302527, 2.96896557586367, 3.373297771701241, 3.641869586026189, 3.736063879979244, 3.641869586026189, 3.373297771701241, 2.96896557586367, 2.4829949593302527, 1.9731800087249813, 1.489970838994371, 1.0690770920987946, 0.7288874486340988, 0.47220666530745253, 0.290685887142767, 0.17003407945196763, 0.09450791780809527, 0.04991379700022506, 0.025049162778583527, 0.011944996163598627, 0.005412513683573803, 0.0023304092374560456, 0.0009534228847885069, 0.0, 0.0, 0.0, 0.0, 0.0, 0.0, 0.0], [0.0, 0.0, 0.0, 0.0, 0.0, 0.0, 0.0, 0.0, 0.0, 0.0, 0.0, 0.0, 0.0, 0.0, 0.0, 0.0, 0.0007199405473820418, 0.0017597187237753794, 0.004087051114710026, 0.00901980350346343, 0.018914909899897848, 0.03769048017158663, 0.07136401188208327, 0.12839468213667407, 0.2195002449015275, 0.3565686648840066, 0.5503912661651047, 0.8072723648226046, 1.1250940569219052, 1.489970838994371, 1.8749379511313167, 2.24189993333323, 2.5472158084184566, 2.7500174634882137, 2.8211446544029455, 2.7500174634882137, 2.5472158084184566, 2.24189993333323, 1.8749379511313167, 1.489970838994371, 1.1250940569219052, 0.8072723648226046, 0.5503912661651047, 0.3565686648840066, 0.2195002449015275, 0.12839468213667407, 0.07136401188208327, 0.03769048017158663, 0.018914909899897848, 0.00901980350346343, 0.004087051114710026, 0.0017597187237753794, 0.0007199405473820418, 0.0, 0.0, 0.0, 0.0, 0.0, 0.0, 0.0], [0.0, 0.0, 0.0, 0.0, 0.0, 0.0, 0.0, 0.0, 0.0, 0.0, 0.0, 0.0, 0.0, 0.0, 0.0, 0.0, 0.0005165684634463611, 0.0012626253661416065, 0.002932522306223362, 0.006471848339859779, 0.013571740025960255, 0.027043501716344218, 0.051204780863291534, 0.09212516770614672, 0.15749481626947787, 0.25584352486054496, 0.3949142351977177, 0.5792303914476328, 0.8072723648226046, 1.0690770920987946, 1.3452969415253857, 1.6085978321038976, 1.82766668859777, 1.9731800087249822, 2.0242148668860986, 1.9731800087249822, 1.82766668859777, 1.6085978321038976, 1.3452969415253857, 1.0690770920987946, 0.8072723648226046, 0.5792299307622452, 0.39491310916487316, 0.2558409095824723, 0.15748904455445406, 0.09211306417533234, 0.05118066296420667, 0.026997836338003917, 0.013489581083630301, 0.006331391526055929, 0.002704356280283991, 0.0009104334876054417, 0.0, -0.0007199405473820418, -0.0009534228847885069, -0.0011997608969136517, -0.0014345775406506493, -0.0016299472316386645, -0.0017597187237753788, -0.0018052325618814968], [0.0, 0.0, 0.0, 0.0, 0.0, 0.0, 0.0, 0.0, 0.0, 0.0, 0.0, 0.0, 0.0, 0.0, 0.0, 0.0, 0.0003521918785361648, 0.0008608469758723475, 0.001999368163103623, 0.0044124498216741295, 0.009253094125912947, 0.018438023893543907, 0.03491097354639013, 0.0628101368372754, 0.10737859379101493, 0.17443188659019954, 0.2692490854494434, 0.3949142351977177, 0.5503912661651047, 0.7288874486340988, 0.9172117358147257, 1.096727989390125, 1.2460872274330372, 1.3452969415253855, 1.3800920632536338, 1.3452969415253855, 1.2460872274330372, 1.096727989390125, 0.9172117358147257, 0.7288874486340988, 0.5503912661651047, 0.39491310916487316, 0.26924633313734314, 0.1744254941820917, 0.10736448624417279, 0.06278055271414845, 0.034852023236184526, 0.01832640603622787, 0.009052276669986436, 0.0040691374661869385, 0.0014416720735654592, 0.0, -0.0009104334876054417, -0.0017597187237753794, -0.0023304092374560456, -0.0029325223062233634, -0.0035064742056415436, -0.003984007669397659, -0.004301202367426055, -0.00441244982167413], [0.0, 0.0, 0.0, 0.0, 0.0, 0.0, 0.0, 0.0, 0.0, 0.0, 0.0, 0.0, 0.0, 0.0, 0.0, 0.0, 0.00022816602593937096, 0.000557696089538164, 0.0012952822480209753, 0.002858587042531397, 0.005994578078085074, 0.011944996163598625, 0.022616927252444886, 0.04069128274744595, 0.0695647699716565, 0.11300496344723658, 0.17443188659019954, 0.25584352486054496, 0.3565686648840066, 0.47220666530745253, 0.5942117619964047, 0.710510611192092, 0.8072723648226046, 0.8715449604688097, 0.8940868336085559, 0.8715449604688097, 0.8072723648226046, 0.710510611192092, 0.5942117619964047, 0.47220666530745253, 0.3565686648840066, 0.2558409095824723, 0.1744254941820917, 0.11299011670023665, 0.06953200435731831, 0.0406225718666841, 0.02248001166032037, 0.011685757069303868, 0.005528167625091315, 0.002061223733139939, 0.0, -0.0014416720735654592, -0.002704356280283991, -0.004087051114710026, -0.005412513683573803, -0.006810957000473498, -0.00814399433116365, -0.009253094125912948, -0.009989797626672282, -0.010248176437871022], [0.0, 0.0, 0.0, 0.0, 0.0, 0.0, 0.0, 0.0, 0.0, 0.0, 0.0, 0.0, 0.0, 0.0, 0.0, 0.0, 0.0001404568138038497, 0.00034331235548719114, 0.0007973633093914578, 0.0017597187237753788, 0.0036902046809105934, 0.00735322489459535, 0.013922763158245081, 0.025049162778583538, 0.0428234041548891, 0.0695647699716565, 0.10737859379101493, 0.15749481626947787, 0.2195002449015275, 0.290685887142767, 0.36579105268268125, 0.4373835070799947, 0.496949113120862, 0.5365147055976666, 0.5503912661651046, 0.5365147055976666, 0.496949113120862, 0.4373835070799947, 0.36579105268268125, 0.290685887142767, 0.2195002449015275, 0.15748904455445406, 0.10736448624417279, 0.06953200435731831, 0.042751092995888154, 0.024897523216065934, 0.013620601109652469, 0.00678110440348169, 0.002660873136016626, 0.0, -0.002061223733139939, -0.0040691374661869385, -0.006331391526055929, -0.00901980350346343, -0.011944996163598627, -0.015031251650780569, -0.01797316122033085, -0.02042085808870732, -0.022046705339123777, -0.022616927252444883], [0.0, 0.0, 0.0, 0.0, 0.0, 0.0, 0.0, 0.0, 0.0, 0.0, 0.0, 0.0, 0.0, 0.0, 0.0, 0.0, 8.215894232995363e-05, 0.00020081745592651047, 0.00046641045299376007, 0.0010293315448939675, 0.0021585518377774037, 0.0043012023674260545, 0.008143994331163652, 0.014652281113348585, 0.025049162778583538, 0.04069128274744595, 0.0628101368372754, 0.09212516770614672, 0.12839468213667407, 0.17003407945196763, 0.21396616645554106, 0.25584352486054496, 0.2906858871427671, 0.31382942245812634, 0.32194639100185535, 0.31382942245812634, 0.2906858871427671, 0.25584352486054496, 0.21396616645554106, 0.17003407945196763, 0.12839468213667407, 0.09211306417533234, 0.06278055271414845, 0.0406225718666841, 0.024897523216065934, 0.014334286529411247, 0.007510347719892884, 0.0031014414705124024, 0.0, -0.002660873136016626, -0.005528167625091315, -0.009052276669986436, -0.013489581083630301, -0.018914909899897848, -0.025049162778583527, -0.03152117122596228, -0.03769048017158663, -0.042823404154889104, -0.04623287468723667, -0.04742865418612205], [0.0, 0.0, 0.0, 0.0, 0.0, 0.0, 0.0, 0.0, 0.0, 0.0, 0.0, 0.0, 0.0, 0.0, 0.0, 0.0, 4.5665378340303325e-05, 0.00011161785731603713, 0.0002592390942947565, 0.00057212049111366, 0.0011997608969136519, 0.0023906835684167444, 0.004526574609983585, 0.008143994331163652, 0.013922763158245081, 0.022616927252444886, 0.03491097354639013, 0.051204780863291534, 0.07136401188208327, 0.09450791780809527, 0.11892614079641492, 0.14220230966159975, 0.16156830453404722, 0.17443188659019962, 0.17894343979444027, 0.17443188659019962, 0.16156830453404722, 0.14220230966159975, 0.11892614079641492, 0.09450791780809527, 0.07136401188208327, 0.05118066296420667, 0.034852023236184526, 0.02248001166032037, 0.013620601109652469, 0.007510347719892884, 0.0032639492438419787, 0.0, -0.0031014414705124024, -0.00678110440348169, -0.011685757069303868, -0.01832640603622787, -0.026997836338003917, -0.03769048017158663, -0.04991379700022506, -0.06281013683727538, -0.07510330755381696, -0.08533134303687089, -0.09212516770614669, -0.09450791780809523], [0.0, 0.0, 0.0, 0.0, 0.0, 0.0, 0.0, 0.0, 0.0, 0.0, 0.0, 0.0, 0.0, 0.0, 0.0, 0.0, 2.4117899084865182e-05, 5.895031020560211e-05, 0.00013691559212451838, 0.00030216204859261227, 0.0006336466112707694, 0.0012626253661416058, 0.0023906835684167444, 0.0043012023674260545, 0.00735322489459535, 0.011944996163598625, 0.018438023893543907, 0.027043501716344218, 0.03769048017158663, 0.04991379700022506, 0.06281013683727538, 0.07510330755381696, 0.08533134303687089, 0.09212516770614669, 0.09450791780809523, 0.09212516770614669, 0.08533134303687089, 0.07510330755381696, 0.06281013683727538, 0.04991379700022506, 0.03769048017158663, 0.026997836338003917, 0.01832640603622787, 0.011685757069303868, 0.00678110440348169, 0.0031014414705124024, 0.0, -0.0032639492438419787, -0.007510347719892884, -0.013620601109652469, -0.02248001166032037, -0.034852023236184526, -0.05118066296420667, -0.07136401188208327, -0.09450791780809527, -0.11892614079641492, -0.14220230966159975, -0.16156830453404722, -0.17443188659019962, -0.17894343979444027], [0.0, 0.0, 0.0, 0.0, 0.0, 0.0, 0.0, 0.0, 0.0, 0.0, 0.0, 0.0, 0.0, 0.0, 0.0, 0.0, 1.2103530814366108e-05, 2.95841231269475e-05, 6.871088076184118e-05, 0.00015163956251760375, 0.0003179945839373385, 0.0006336466112707694, 0.0011997608969136519, 0.0021585518377774037, 0.0036902046809105934, 0.005994578078085074, 0.009253094125912947, 0.013571740025960255, 0.018914909899897848, 0.025049162778583527, 0.03152117122596228, 0.03769048017158663, 0.042823404154889104, 0.04623287468723667, 0.04742865418612205, 0.04623287468723667, 0.042823404154889104, 0.03769048017158663, 0.03152117122596228, 0.025049162778583527, 0.018914909899897848, 0.013489581083630301, 0.009052276669986436, 0.005528167625091315, 0.002660873136016626, 0.0, -0.0031014414705124024, -0.007510347719892884, -0.014334286529411247, -0.024897523216065934, -0.0406225718666841, -0.06278055271414845, -0.09211306417533234, -0.12839468213667407, -0.17003407945196763, -0.21396616645554106, -0.25584352486054496, -0.2906858871427671, -0.31382942245812634, -0.32194639100185535], [0.0, 0.0, 0.0, 0.0, 0.0, 0.0, 0.0, 0.0, 0.0, 0.0, 0.0, 0.0, 0.0, 0.0, 0.0, 0.0, 5.771715023833479e-06, 1.410754684212245e-05, 3.276561433819255e-05, 7.231115900093879e-05, 0.00015163956251760375, 0.00030216204859261227, 0.00057212049111366, 0.0010293315448939675, 0.0017597187237753788, 0.002858587042531397, 0.0044124498216741295, 0.006471848339859779, 0.00901980350346343, 0.011944996163598627, 0.015031251650780569, 0.01797316122033085, 0.02042085808870732, 0.022046705339123777, 0.022616927252444883, 0.022046705339123777, 0.02042085808870732, 0.01797316122033085, 0.015031251650780569, 0.011944996163598627, 0.00901980350346343, 0.006331391526055929, 0.0040691374661869385, 0.002061223733139939, 0.0, -0.002660873136016626, -0.00678110440348169, -0.013620601109652469, -0.024897523216065934, -0.042751092995888154, -0.06953200435731831, -0.10736448624417279, -0.15748904455445406, -0.2195002449015275, -0.290685887142767, -0.36579105268268125, -0.4373835070799947, -0.496949113120862, -0.5365147055976666, -0.5503912661651046], [0.0, 0.0, 0.0, 0.0, 0.0, 0.0, 0.0, 0.0, 0.0, 0.0, 0.0, 0.0, 0.0, 0.0, 0.0, 0.0, 2.615278072619807e-06, 6.392408107868514e-06, 1.484674699993719e-05, 3.276561433819255e-05, 6.871088076184118e-05, 0.00013691559212451838, 0.0002592390942947565, 0.00046641045299376007, 0.0007973633093914578, 0.0012952822480209753, 0.001999368163103623, 0.002932522306223362, 0.004087051114710026, 0.005412513683573803, 0.006810957000473498, 0.00814399433116365, 0.009253094125912948, 0.009989797626672282, 0.010248176437871022, 0.009989797626672282, 0.009253094125912948, 0.00814399433116365, 0.006810957000473498, 0.005412513683573803, 0.004087051114710026, 0.002704356280283991, 0.0014416720735654592, 0.0, -0.002061223733139939, -0.005528167625091315, -0.011685757069303868, -0.02248001166032037, -0.0406225718666841, -0.06953200435731831, -0.11299011670023665, -0.1744254941820917, -0.2558409095824723, -0.3565686648840066, -0.47220666530745253, -0.5942117619964047, -0.710510611192092, -0.8072723648226046, -0.8715449604688097, -0.8940868336085559], [0.0, 0.0, 0.0, 0.0, 0.0, 0.0, 0.0, 0.0, 0.0, 0.0, 0.0, 0.0, 0.0, 0.0, 0.0, 0.0, 1.1260328444888513e-06, 2.7523121002678896e-06, 6.392408107868514e-06, 1.410754684212245e-05, 2.95841231269475e-05, 5.895031020560211e-05, 0.00011161785731603713, 0.00020081745592651047, 0.00034331235548719114, 0.000557696089538164, 0.0008608469758723475, 0.0012626253661416065, 0.0017597187237753794, 0.0023304092374560456, 0.0029325223062233634, 0.0035064742056415436, 0.003984007669397659, 0.004301202367426055, 0.00441244982167413, 0.004301202367426055, 0.003984007669397659, 0.0035064742056415436, 0.0029325223062233634, 0.0023304092374560456, 0.0017597187237753794, 0.0009104334876054417, 0.0, -0.0014416720735654592, -0.0040691374661869385, -0.009052276669986436, -0.01832640603622787, -0.034852023236184526, -0.06278055271414845, -0.10736448624417279, -0.1744254941820917, -0.26924633313734314, -0.39491310916487316, -0.5503912661651047, -0.7288874486340988, -0.9172117358147257, -1.096727989390125, -1.2460872274330372, -1.3452969415253855, -1.3800920632536338], [0.0, 0.0, 0.0, 0.0, 0.0, 0.0, 0.0, 0.0, 0.0, 0.0, 0.0, 0.0, 0.0, 0.0, 0.0, 0.0, 4.6068538765797697e-07, 1.1260328444888513e-06, 2.615278072619807e-06, 5.771715023833479e-06, 1.2103530814366108e-05, 2.4117899084865182e-05, 4.5665378340303325e-05, 8.215894232995363e-05, 0.0001404568138038497, 0.00022816602593937096, 0.0003521918785361648, 0.0005165684634463611, 0.0007199405473820418, 0.0009534228847885069, 0.0011997608969136517, 0.0014345775406506493, 0.0016299472316386645, 0.0017597187237753788, 0.0018052325618814968, 0.0017597187237753788, 0.0016299472316386645, 0.0014345775406506493, 0.0011997608969136517, 0.0009534228847885069, 0.0007199405473820418, 0.0, -0.0009104334876054417, -0.002704356280283991, -0.006331391526055929, -0.013489581083630301, -0.026997836338003917, -0.05118066296420667, -0.09211306417533234, -0.15748904455445406, -0.2558409095824723, -0.39491310916487316, -0.5792299307622452, -0.8072723648226046, -1.0690770920987946, -1.3452969415253857, -1.6085978321038976, -1.82766668859777, -1.9731800087249822, -2.0242148668860986], [0.0, 0.0, 0.0, 0.0, 0.0, 0.0, 0.0, 0.0, 0.0, 0.0, 0.0, 0.0, 0.0, 0.0, 0.0, 0.0, 0.0, 0.0, 0.0, 0.0, 0.0, 0.0, 0.0, 0.0, 0.0, 0.0, 0.0, 0.0, 0.0, 0.0, 0.0, 0.0, 0.0, 0.0, 0.0, 0.0, 0.0, 0.0, 0.0, 0.0, 0.0, -0.0007199405473820418, -0.0017597187237753794, -0.004087051114710026, -0.00901980350346343, -0.018914909899897848, -0.03769048017158663, -0.07136401188208327, -0.12839468213667407, -0.2195002449015275, -0.3565686648840066, -0.5503912661651047, -0.8072723648226046, -1.1250940569219052, -1.489970838994371, -1.8749379511313167, -2.24189993333323, -2.5472158084184566, -2.7500174634882137, -2.8211446544029455], [0.0, 0.0, 0.0, 0.0, 0.0, 0.0, 0.0, 0.0, 0.0, 0.0, 0.0, 0.0, 0.0, 0.0, 0.0, 0.0, 0.0, 0.0, 0.0, 0.0, 0.0, 0.0, 0.0, 0.0, 0.0, 0.0, 0.0, 0.0, 0.0, 0.0, 0.0, 0.0, 0.0, 0.0, 0.0, 0.0, 0.0, 0.0, 0.0, 0.0, 0.0, -0.0009534228847885069, -0.0023304092374560456, -0.005412513683573803, -0.011944996163598627, -0.025049162778583527, -0.04991379700022506, -0.09450791780809527, -0.17003407945196763, -0.290685887142767, -0.47220666530745253, -0.7288874486340988, -1.0690770920987946, -1.489970838994371, -1.9731800087249813, -2.4829949593302527, -2.96896557586367, -3.373297771701241, -3.641869586026189, -3.736063879979244], [0.0, 0.0, 0.0, 0.0, 0.0, 0.0, 0.0, 0.0, 0.0, 0.0, 0.0, 0.0, 0.0, 0.0, 0.0, 0.0, 0.0, 0.0, 0.0, 0.0, 0.0, 0.0, 0.0, 0.0, 0.0, 0.0, 0.0, 0.0, 0.0, 0.0, 0.0, 0.0, 0.0, 0.0, 0.0, 0.0, 0.0, 0.0, 0.0, 0.0, 0.0, -0.0011997608969136517, -0.0029325223062233634, -0.006810957000473498, -0.015031251650780569, -0.03152117122596228, -0.06281013683727538, -0.11892614079641492, -0.21396616645554106, -0.36579105268268125, -0.5942117619964047, -0.9172117358147257, -1.3452969415253857, -1.8749379511313167, -2.4829949593302527, -3.124531943764867, -3.736063879979244, -4.244864293383165, -4.582827610586007, -4.701359095827557], [0.0, 0.0, 0.0, 0.0, 0.0, 0.0, 0.0, 0.0, 0.0, 0.0, 0.0, 0.0, 0.0, 0.0, 0.0, 0.0, 0.0, 0.0, 0.0, 0.0, 0.0, 0.0, 0.0, 0.0, 0.0, 0.0, 0.0, 0.0, 0.0, 0.0, 0.0, 0.0, 0.0, 0.0, 0.0, 0.0, 0.0, 0.0, 0.0, 0.0, 0.0, -0.0014345775406506493, -0.0035064742056415436, -0.00814399433116365, -0.01797316122033085, -0.03769048017158663, -0.07510330755381696, -0.14220230966159975, -0.25584352486054496, -0.4373835070799947, -0.710510611192092, -1.096727989390125, -1.6085978321038976, -2.24189993333323, -2.96896557586367, -3.736063879979244, -4.467284561817228, -5.075667155066191, -5.479776495244064, -5.621506907549483], [0.0, 0.0, 0.0, 0.0, 0.0, 0.0, 0.0, 0.0, 0.0, 0.0, 0.0, 0.0, 0.0, 0.0, 0.0, 0.0, 0.0, 0.0, 0.0, 0.0, 0.0, 0.0, 0.0, 0.0, 0.0, 0.0, 0.0, 0.0, 0.0, 0.0, 0.0, 0.0, 0.0, 0.0, 0.0, 0.0, 0.0, 0.0, 0.0, 0.0, 0.0, -0.0016299472316386645, -0.003984007669397659, -0.009253094125912948, -0.02042085808870732, -0.042823404154889104, -0.08533134303687089, -0.16156830453404722, -0.2906858871427671, -0.496949113120862, -0.8072723648226046, -1.2460872274330372, -1.82766668859777, -2.5472158084184566, -3.373297771701241, -4.244864293383165, -5.075667155066191, -5.766903073337676, -6.226046536578783, -6.387078677840001], [0.0, 0.0, 0.0, 0.0, 0.0, 0.0, 0.0, 0.0, 0.0, 0.0, 0.0, 0.0, 0.0, 0.0, 0.0, 0.0, 0.0, 0.0, 0.0, 0.0, 0.0, 0.0, 0.0, 0.0, 0.0, 0.0, 0.0, 0.0, 0.0, 0.0, 0.0, 0.0, 0.0, 0.0, 0.0, 0.0, 0.0, 0.0, 0.0, 0.0, 0.0, -0.0017597187237753788, -0.004301202367426055, -0.009989797626672282, -0.022046705339123777, -0.04623287468723667, -0.09212516770614669, -0.17443188659019962, -0.31382942245812634, -0.5365147055976666, -0.8715449604688097, -1.3452969415253855, -1.9731800087249822, -2.7500174634882137, -3.641869586026189, -4.582827610586007, -5.479776495244064, -6.226046536578783, -6.721745620255356, -6.895598655866894], [0.0, 0.0, 0.0, 0.0, 0.0, 0.0, 0.0, 0.0, 0.0, 0.0, 0.0, 0.0, 0.0, 0.0, 0.0, 0.0, 0.0, 0.0, 0.0, 0.0, 0.0, 0.0, 0.0, 0.0, 0.0, 0.0, 0.0, 0.0, 0.0, 0.0, 0.0, 0.0, 0.0, 0.0, 0.0, 0.0, 0.0, 0.0, 0.0, 0.0, 0.0, -0.0018052325618814968, -0.00441244982167413, -0.010248176437871022, -0.022616927252444883, -0.04742865418612205, -0.09450791780809523, -0.17894343979444027, -0.32194639100185535, -0.5503912661651046, -0.8940868336085559, -1.3800920632536338, -2.0242148668860986, -2.8211446544029455, -3.736063879979244, -4.701359095827557, -5.621506907549483, -6.387078677840001, -6.895598655866894, -7.073948273125358], [0.0, 0.0, 0.0, 0.0, 0.0, 0.0, 0.0, 0.0, 0.0, 0.0, 0.0, 0.0, 0.0, 0.0, 0.0, 0.0, 0.0, 0.0, 0.0, 0.0, 0.0, 0.0, 0.0, 0.0, 0.0, 0.0, 0.0, 0.0, 0.0, 0.0, 0.0, 0.0, 0.0, 0.0, 0.0, 0.0, 0.0, 0.0, 0.0, 0.0, 0.0, -0.0017597187237753788, -0.004301202367426055, -0.009989797626672282, -0.022046705339123777, -0.04623287468723667, -0.09212516770614669, -0.17443188659019962, -0.31382942245812634, -0.5365147055976666, -0.8715449604688097, -1.3452969415253855, -1.9731800087249822, -2.7500174634882137, -3.641869586026189, -4.582827610586007, -5.479776495244064, -6.226046536578783, -6.721745620255356, -6.895598655866894], [0.0, 0.0, 0.0, 0.0, 0.0, 0.0, 0.0, 0.0, 0.0, 0.0, 0.0, 0.0, 0.0, 0.0, 0.0, 0.0, 0.0, 0.0, 0.0, 0.0, 0.0, 0.0, 0.0, 0.0, 0.0, 0.0, 0.0, 0.0, 0.0, 0.0, 0.0, 0.0, 0.0, 0.0, 0.0, 0.0, 0.0, 0.0, 0.0, 0.0, 0.0, -0.0016299472316386645, -0.003984007669397659, -0.009253094125912948, -0.02042085808870732, -0.042823404154889104, -0.08533134303687089, -0.16156830453404722, -0.2906858871427671, -0.496949113120862, -0.8072723648226046, -1.2460872274330372, -1.82766668859777, -2.5472158084184566, -3.373297771701241, -4.244864293383165, -5.075667155066191, -5.766903073337676, -6.226046536578783, -6.387078677840001], [0.0, 0.0, 0.0, 0.0, 0.0, 0.0, 0.0, 0.0, 0.0, 0.0, 0.0, 0.0, 0.0, 0.0, 0.0, 0.0, 0.0, 0.0, 0.0, 0.0, 0.0, 0.0, 0.0, 0.0, 0.0, 0.0, 0.0, 0.0, 0.0, 0.0, 0.0, 0.0, 0.0, 0.0, 0.0, 0.0, 0.0, 0.0, 0.0, 0.0, 0.0, -0.0014345775406506493, -0.0035064742056415436, -0.00814399433116365, -0.01797316122033085, -0.03769048017158663, -0.07510330755381696, -0.14220230966159975, -0.25584352486054496, -0.4373835070799947, -0.710510611192092, -1.096727989390125, -1.6085978321038976, -2.24189993333323, -2.96896557586367, -3.736063879979244, -4.467284561817228, -5.075667155066191, -5.479776495244064, -5.621506907549483], [0.0, 0.0, 0.0, 0.0, 0.0, 0.0, 0.0, 0.0, 0.0, 0.0, 0.0, 0.0, 0.0, 0.0, 0.0, 0.0, 0.0, 0.0, 0.0, 0.0, 0.0, 0.0, 0.0, 0.0, 0.0, 0.0, 0.0, 0.0, 0.0, 0.0, 0.0, 0.0, 0.0, 0.0, 0.0, 0.0, 0.0, 0.0, 0.0, 0.0, 0.0, -0.0011997608969136517, -0.0029325223062233634, -0.006810957000473498, -0.015031251650780569, -0.03152117122596228, -0.06281013683727538, -0.11892614079641492, -0.21396616645554106, -0.36579105268268125, -0.5942117619964047, -0.9172117358147257, -1.3452969415253857, -1.8749379511313167, -2.4829949593302527, -3.124531943764867, -3.736063879979244, -4.244864293383165, -4.582827610586007, -4.701359095827557], [0.0, 0.0, 0.0, 0.0, 0.0, 0.0, 0.0, 0.0, 0.0, 0.0, 0.0, 0.0, 0.0, 0.0, 0.0, 0.0, 0.0, 0.0, 0.0, 0.0, 0.0, 0.0, 0.0, 0.0, 0.0, 0.0, 0.0, 0.0, 0.0, 0.0, 0.0, 0.0, 0.0, 0.0, 0.0, 0.0, 0.0, 0.0, 0.0, 0.0, 0.0, -0.0009534228847885069, -0.0023304092374560456, -0.005412513683573803, -0.011944996163598627, -0.025049162778583527, -0.04991379700022506, -0.09450791780809527, -0.17003407945196763, -0.290685887142767, -0.47220666530745253, -0.7288874486340988, -1.0690770920987946, -1.489970838994371, -1.9731800087249813, -2.4829949593302527, -2.96896557586367, -3.373297771701241, -3.641869586026189, -3.736063879979244], [0.0, 0.0, 0.0, 0.0, 0.0, 0.0, 0.0, 0.0, 0.0, 0.0, 0.0, 0.0, 0.0, 0.0, 0.0, 0.0, 0.0, 0.0, 0.0, 0.0, 0.0, 0.0, 0.0, 0.0, 0.0, 0.0, 0.0, 0.0, 0.0, 0.0, 0.0, 0.0, 0.0, 0.0, 0.0, 0.0, 0.0, 0.0, 0.0, 0.0, 0.0, -0.0007199405473820418, -0.0017597187237753794, -0.004087051114710026, -0.00901980350346343, -0.018914909899897848, -0.03769048017158663, -0.07136401188208327, -0.12839468213667407, -0.2195002449015275, -0.3565686648840066, -0.5503912661651047, -0.8072723648226046, -1.1250940569219052, -1.489970838994371, -1.8749379511313167, -2.24189993333323, -2.5472158084184566, -2.7500174634882137, -2.8211446544029455], [0.0, 0.0, 0.0, 0.0, 0.0, 0.0, 0.0, 0.0, 0.0, 0.0, 0.0, 0.0, 0.0, 0.0, 0.0, 0.0, 0.0, 0.0, 0.0, 0.0, 0.0, 0.0, 0.0, 0.0, 0.0, 0.0, 0.0, 0.0, 0.0, 0.0, 0.0, 0.0, 0.0, 0.0, 0.0, 0.0, 0.0, 0.0, 0.0, 0.0, 0.0, -0.0005165684634463611, -0.0012626253661416065, -0.002932522306223362, -0.006471848339859779, -0.013571740025960255, -0.027043501716344218, -0.051204780863291534, -0.09212516770614672, -0.15749481626947787, -0.25584352486054496, -0.3949142351977177, -0.5792303914476328, -0.8072723648226046, -1.0690770920987946, -1.3452969415253857, -1.6085978321038976, -1.82766668859777, -1.9731800087249822, -2.0242148668860986], [0.0, 0.0, 0.0, 0.0, 0.0, 0.0, 0.0, 0.0, 0.0, 0.0, 0.0, 0.0, 0.0, 0.0, 0.0, 0.0, 0.0, 0.0, 0.0, 0.0, 0.0, 0.0, 0.0, 0.0, 0.0, 0.0, 0.0, 0.0, 0.0, 0.0, 0.0, 0.0, 0.0, 0.0, 0.0, 0.0, 0.0, 0.0, 0.0, 0.0, 0.0, -0.0003521918785361648, -0.0008608469758723475, -0.001999368163103623, -0.0044124498216741295, -0.009253094125912947, -0.018438023893543907, -0.03491097354639013, -0.0628101368372754, -0.10737859379101493, -0.17443188659019954, -0.2692490854494434, -0.3949142351977177, -0.5503912661651047, -0.7288874486340988, -0.9172117358147257, -1.096727989390125, -1.2460872274330372, -1.3452969415253855, -1.3800920632536338], [0.0, 0.0, 0.0, 0.0, 0.0, 0.0, 0.0, 0.0, 0.0, 0.0, 0.0, 0.0, 0.0, 0.0, 0.0, 0.0, 0.0, 0.0, 0.0, 0.0, 0.0, 0.0, 0.0, 0.0, 0.0, 0.0, 0.0, 0.0, 0.0, 0.0, 0.0, 0.0, 0.0, 0.0, 0.0, 0.0, 0.0, 0.0, 0.0, 0.0, 0.0, -0.00022816602593937096, -0.000557696089538164, -0.0012952822480209753, -0.002858587042531397, -0.005994578078085074, -0.011944996163598625, -0.022616927252444886, -0.04069128274744595, -0.0695647699716565, -0.11300496344723658, -0.17443188659019954, -0.25584352486054496, -0.3565686648840066, -0.47220666530745253, -0.5942117619964047, -0.710510611192092, -0.8072723648226046, -0.8715449604688097, -0.8940868336085559], [0.0, 0.0, 0.0, 0.0, 0.0, 0.0, 0.0, 0.0, 0.0, 0.0, 0.0, 0.0, 0.0, 0.0, 0.0, 0.0, 0.0, 0.0, 0.0, 0.0, 0.0, 0.0, 0.0, 0.0, 0.0, 0.0, 0.0, 0.0, 0.0, 0.0, 0.0, 0.0, 0.0, 0.0, 0.0, 0.0, 0.0, 0.0, 0.0, 0.0, 0.0, -0.0001404568138038497, -0.00034331235548719114, -0.0007973633093914578, -0.0017597187237753788, -0.0036902046809105934, -0.00735322489459535, -0.013922763158245081, -0.025049162778583538, -0.0428234041548891, -0.0695647699716565, -0.10737859379101493, -0.15749481626947787, -0.2195002449015275, -0.290685887142767, -0.36579105268268125, -0.4373835070799947, -0.496949113120862, -0.5365147055976666, -0.5503912661651046], [0.0, 0.0, 0.0, 0.0, 0.0, 0.0, 0.0, 0.0, 0.0, 0.0, 0.0, 0.0, 0.0, 0.0, 0.0, 0.0, 0.0, 0.0, 0.0, 0.0, 0.0, 0.0, 0.0, 0.0, 0.0, 0.0, 0.0, 0.0, 0.0, 0.0, 0.0, 0.0, 0.0, 0.0, 0.0, 0.0, 0.0, 0.0, 0.0, 0.0, 0.0, -8.215894232995363e-05, -0.00020081745592651047, -0.00046641045299376007, -0.0010293315448939675, -0.0021585518377774037, -0.0043012023674260545, -0.008143994331163652, -0.014652281113348585, -0.025049162778583538, -0.04069128274744595, -0.0628101368372754, -0.09212516770614672, -0.12839468213667407, -0.17003407945196763, -0.21396616645554106, -0.25584352486054496, -0.2906858871427671, -0.31382942245812634, -0.32194639100185535], [0.0, 0.0, 0.0, 0.0, 0.0, 0.0, 0.0, 0.0, 0.0, 0.0, 0.0, 0.0, 0.0, 0.0, 0.0, 0.0, 0.0, 0.0, 0.0, 0.0, 0.0, 0.0, 0.0, 0.0, 0.0, 0.0, 0.0, 0.0, 0.0, 0.0, 0.0, 0.0, 0.0, 0.0, 0.0, 0.0, 0.0, 0.0, 0.0, 0.0, 0.0, -4.5665378340303325e-05, -0.00011161785731603713, -0.0002592390942947565, -0.00057212049111366, -0.0011997608969136519, -0.0023906835684167444, -0.004526574609983585, -0.008143994331163652, -0.013922763158245081, -0.022616927252444886, -0.03491097354639013, -0.051204780863291534, -0.07136401188208327, -0.09450791780809527, -0.11892614079641492, -0.14220230966159975, -0.16156830453404722, -0.17443188659019962, -0.17894343979444027], [0.0, 0.0, 0.0, 0.0, 0.0, 0.0, 0.0, 0.0, 0.0, 0.0, 0.0, 0.0, 0.0, 0.0, 0.0, 0.0, 0.0, 0.0, 0.0, 0.0, 0.0, 0.0, 0.0, 0.0, 0.0, 0.0, 0.0, 0.0, 0.0, 0.0, 0.0, 0.0, 0.0, 0.0, 0.0, 0.0, 0.0, 0.0, 0.0, 0.0, 0.0, -2.4117899084865182e-05, -5.895031020560211e-05, -0.00013691559212451838, -0.00030216204859261227, -0.0006336466112707694, -0.0012626253661416058, -0.0023906835684167444, -0.0043012023674260545, -0.00735322489459535, -0.011944996163598625, -0.018438023893543907, -0.027043501716344218, -0.03769048017158663, -0.04991379700022506, -0.06281013683727538, -0.07510330755381696, -0.08533134303687089, -0.09212516770614669, -0.09450791780809523], [0.0, 0.0, 0.0, 0.0, 0.0, 0.0, 0.0, 0.0, 0.0, 0.0, 0.0, 0.0, 0.0, 0.0, 0.0, 0.0, 0.0, 0.0, 0.0, 0.0, 0.0, 0.0, 0.0, 0.0, 0.0, 0.0, 0.0, 0.0, 0.0, 0.0, 0.0, 0.0, 0.0, 0.0, 0.0, 0.0, 0.0, 0.0, 0.0, 0.0, 0.0, -1.2103530814366108e-05, -2.95841231269475e-05, -6.871088076184118e-05, -0.00015163956251760375, -0.0003179945839373385, -0.0006336466112707694, -0.0011997608969136519, -0.0021585518377774037, -0.0036902046809105934, -0.005994578078085074, -0.009253094125912947, -0.013571740025960255, -0.018914909899897848, -0.025049162778583527, -0.03152117122596228, -0.03769048017158663, -0.042823404154889104, -0.04623287468723667, -0.04742865418612205], [0.0, 0.0, 0.0, 0.0, 0.0, 0.0, 0.0, 0.0, 0.0, 0.0, 0.0, 0.0, 0.0, 0.0, 0.0, 0.0, 0.0, 0.0, 0.0, 0.0, 0.0, 0.0, 0.0, 0.0, 0.0, 0.0, 0.0, 0.0, 0.0, 0.0, 0.0, 0.0, 0.0, 0.0, 0.0, 0.0, 0.0, 0.0, 0.0, 0.0, 0.0, -5.771715023833479e-06, -1.410754684212245e-05, -3.276561433819255e-05, -7.231115900093879e-05, -0.00015163956251760375, -0.00030216204859261227, -0.00057212049111366, -0.0010293315448939675, -0.0017597187237753788, -0.002858587042531397, -0.0044124498216741295, -0.006471848339859779, -0.00901980350346343, -0.011944996163598627, -0.015031251650780569, -0.01797316122033085, -0.02042085808870732, -0.022046705339123777, -0.022616927252444883], [0.0, 0.0, 0.0, 0.0, 0.0, 0.0, 0.0, 0.0, 0.0, 0.0, 0.0, 0.0, 0.0, 0.0, 0.0, 0.0, 0.0, 0.0, 0.0, 0.0, 0.0, 0.0, 0.0, 0.0, 0.0, 0.0, 0.0, 0.0, 0.0, 0.0, 0.0, 0.0, 0.0, 0.0, 0.0, 0.0, 0.0, 0.0, 0.0, 0.0, 0.0, -2.615278072619807e-06, -6.392408107868514e-06, -1.484674699993719e-05, -3.276561433819255e-05, -6.871088076184118e-05, -0.00013691559212451838, -0.0002592390942947565, -0.00046641045299376007, -0.0007973633093914578, -0.0012952822480209753, -0.001999368163103623, -0.002932522306223362, -0.004087051114710026, -0.005412513683573803, -0.006810957000473498, -0.00814399433116365, -0.009253094125912948, -0.009989797626672282, -0.010248176437871022], [0.0, 0.0, 0.0, 0.0, 0.0, 0.0, 0.0, 0.0, 0.0, 0.0, 0.0, 0.0, 0.0, 0.0, 0.0, 0.0, 0.0, 0.0, 0.0, 0.0, 0.0, 0.0, 0.0, 0.0, 0.0, 0.0, 0.0, 0.0, 0.0, 0.0, 0.0, 0.0, 0.0, 0.0, 0.0, 0.0, 0.0, 0.0, 0.0, 0.0, 0.0, -1.1260328444888513e-06, -2.7523121002678896e-06, -6.392408107868514e-06, -1.410754684212245e-05, -2.95841231269475e-05, -5.895031020560211e-05, -0.00011161785731603713, -0.00020081745592651047, -0.00034331235548719114, -0.000557696089538164, -0.0008608469758723475, -0.0012626253661416065, -0.0017597187237753794, -0.0023304092374560456, -0.0029325223062233634, -0.0035064742056415436, -0.003984007669397659, -0.004301202367426055, -0.00441244982167413], [0.0, 0.0, 0.0, 0.0, 0.0, 0.0, 0.0, 0.0, 0.0, 0.0, 0.0, 0.0, 0.0, 0.0, 0.0, 0.0, 0.0, 0.0, 0.0, 0.0, 0.0, 0.0, 0.0, 0.0, 0.0, 0.0, 0.0, 0.0, 0.0, 0.0, 0.0, 0.0, 0.0, 0.0, 0.0, 0.0, 0.0, 0.0, 0.0, 0.0, 0.0, -4.6068538765797697e-07, -1.1260328444888513e-06, -2.615278072619807e-06, -5.771715023833479e-06, -1.2103530814366108e-05, -2.4117899084865182e-05, -4.5665378340303325e-05, -8.215894232995363e-05, -0.0001404568138038497, -0.00022816602593937096, -0.0003521918785361648, -0.0005165684634463611, -0.0007199405473820418, -0.0009534228847885069, -0.0011997608969136517, -0.0014345775406506493, -0.0016299472316386645, -0.0017597187237753788, -0.0018052325618814968], [0.0, 0.0, 0.0, 0.0, 0.0, 0.0, 0.0, 0.0, 0.0, 0.0, 0.0, 0.0, 0.0, 0.0, 0.0, 0.0, 0.0, 0.0, 0.0, 0.0, 0.0, 0.0, 0.0, 0.0, 0.0, 0.0, 0.0, 0.0, 0.0, 0.0, 0.0, 0.0, 0.0, 0.0, 0.0, 0.0, 0.0, 0.0, 0.0, 0.0, 0.0, 0.0, 0.0, 0.0, 0.0, 0.0, 0.0, 0.0, 0.0, 0.0, 0.0, 0.0, 0.0, 0.0, 0.0, 0.0, 0.0, 0.0, 0.0, 0.0], [0.0, 0.0, 0.0, 0.0, 0.0, 0.0, 0.0, 0.0, 0.0, 0.0, 0.0, 0.0, 0.0, 0.0, 0.0, 0.0, 0.0, 0.0, 0.0, 0.0, 0.0, 0.0, 0.0, 0.0, 0.0, 0.0, 0.0, 0.0, 0.0, 0.0, 0.0, 0.0, 0.0, 0.0, 0.0, 0.0, 0.0, 0.0, 0.0, 0.0, 0.0, 0.0, 0.0, 0.0, 0.0, 0.0, 0.0, 0.0, 0.0, 0.0, 0.0, 0.0, 0.0, 0.0, 0.0, 0.0, 0.0, 0.0, 0.0, 0.0], [0.0, 0.0, 0.0, 0.0, 0.0, 0.0, 0.0, 0.0, 0.0, 0.0, 0.0, 0.0, 0.0, 0.0, 0.0, 0.0, 0.0, 0.0, 0.0, 0.0, 0.0, 0.0, 0.0, 0.0, 0.0, 0.0, 0.0, 0.0, 0.0, 0.0, 0.0, 0.0, 0.0, 0.0, 0.0, 0.0, 0.0, 0.0, 0.0, 0.0, 0.0, 0.0, 0.0, 0.0, 0.0, 0.0, 0.0, 0.0, 0.0, 0.0, 0.0, 0.0, 0.0, 0.0, 0.0, 0.0, 0.0, 0.0, 0.0, 0.0], [0.0, 0.0, 0.0, 0.0, 0.0, 0.0, 0.0, 0.0, 0.0, 0.0, 0.0, 0.0, 0.0, 0.0, 0.0, 0.0, 0.0, 0.0, 0.0, 0.0, 0.0, 0.0, 0.0, 0.0, 0.0, 0.0, 0.0, 0.0, 0.0, 0.0, 0.0, 0.0, 0.0, 0.0, 0.0, 0.0, 0.0, 0.0, 0.0, 0.0, 0.0, 0.0, 0.0, 0.0, 0.0, 0.0, 0.0, 0.0, 0.0, 0.0, 0.0, 0.0, 0.0, 0.0, 0.0, 0.0, 0.0, 0.0, 0.0, 0.0], [0.0, 0.0, 0.0, 0.0, 0.0, 0.0, 0.0, 0.0, 0.0, 0.0, 0.0, 0.0, 0.0, 0.0, 0.0, 0.0, 0.0, 0.0, 0.0, 0.0, 0.0, 0.0, 0.0, 0.0, 0.0, 0.0, 0.0, 0.0, 0.0, 0.0, 0.0, 0.0, 0.0, 0.0, 0.0, 0.0, 0.0, 0.0, 0.0, 0.0, 0.0, 0.0, 0.0, 0.0, 0.0, 0.0, 0.0, 0.0, 0.0, 0.0, 0.0, 0.0, 0.0, 0.0, 0.0, 0.0, 0.0, 0.0, 0.0, 0.0], [0.0, 0.0, 0.0, 0.0, 0.0, 0.0, 0.0, 0.0, 0.0, 0.0, 0.0, 0.0, 0.0, 0.0, 0.0, 0.0, 0.0, 0.0, 0.0, 0.0, 0.0, 0.0, 0.0, 0.0, 0.0, 0.0, 0.0, 0.0, 0.0, 0.0, 0.0, 0.0, 0.0, 0.0, 0.0, 0.0, 0.0, 0.0, 0.0, 0.0, 0.0, 0.0, 0.0, 0.0, 0.0, 0.0, 0.0, 0.0, 0.0, 0.0, 0.0, 0.0, 0.0, 0.0, 0.0, 0.0, 0.0, 0.0, 0.0, 0.0], [0.0, 0.0, 0.0, 0.0, 0.0, 0.0, 0.0, 0.0, 0.0, 0.0, 0.0, 0.0, 0.0, 0.0, 0.0, 0.0, 0.0, 0.0, 0.0, 0.0, 0.0, 0.0, 0.0, 0.0, 0.0, 0.0, 0.0, 0.0, 0.0, 0.0, 0.0, 0.0, 0.0, 0.0, 0.0, 0.0, 0.0, 0.0, 0.0, 0.0, 0.0, 0.0, 0.0, 0.0, 0.0, 0.0, 0.0, 0.0, 0.0, 0.0, 0.0, 0.0, 0.0, 0.0, 0.0, 0.0, 0.0, 0.0, 0.0, 0.0], [0.0, 0.0, 0.0, 0.0, 0.0, 0.0, 0.0, 0.0, 0.0, 0.0, 0.0, 0.0, 0.0, 0.0, 0.0, 0.0, 0.0, 0.0, 0.0, 0.0, 0.0, 0.0, 0.0, 0.0, 0.0, 0.0, 0.0, 0.0, 0.0, 0.0, 0.0, 0.0, 0.0, 0.0, 0.0, 0.0, 0.0, 0.0, 0.0, 0.0, 0.0, 0.0, 0.0, 0.0, 0.0, 0.0, 0.0, 0.0, 0.0, 0.0, 0.0, 0.0, 0.0, 0.0, 0.0, 0.0, 0.0, 0.0, 0.0, 0.0], [0.0, 0.0, 0.0, 0.0, 0.0, 0.0, 0.0, 0.0, 0.0, 0.0, 0.0, 0.0, 0.0, 0.0, 0.0, 0.0, 0.0, 0.0, 0.0, 0.0, 0.0, 0.0, 0.0, 0.0, 0.0, 0.0, 0.0, 0.0, 0.0, 0.0, 0.0, 0.0, 0.0, 0.0, 0.0, 0.0, 0.0, 0.0, 0.0, 0.0, 0.0, 0.0, 0.0, 0.0, 0.0, 0.0, 0.0, 0.0, 0.0, 0.0, 0.0, 0.0, 0.0, 0.0, 0.0, 0.0, 0.0, 0.0, 0.0, 0.0], [0.0, 0.0, 0.0, 0.0, 0.0, 0.0, 0.0, 0.0, 0.0, 0.0, 0.0, 0.0, 0.0, 0.0, 0.0, 0.0, 0.0, 0.0, 0.0, 0.0, 0.0, 0.0, 0.0, 0.0, 0.0, 0.0, 0.0, 0.0, 0.0, 0.0, 0.0, 0.0, 0.0, 0.0, 0.0, 0.0, 0.0, 0.0, 0.0, 0.0, 0.0, 0.0, 0.0, 0.0, 0.0, 0.0, 0.0, 0.0, 0.0, 0.0, 0.0, 0.0, 0.0, 0.0, 0.0, 0.0, 0.0, 0.0, 0.0, 0.0], [0.0, 0.0, 0.0, 0.0, 0.0, 0.0, 0.0, 0.0, 0.0, 0.0, 0.0, 0.0, 0.0, 0.0, 0.0, 0.0, 0.0, 0.0, 0.0, 0.0, 0.0, 0.0, 0.0, 0.0, 0.0, 0.0, 0.0, 0.0, 0.0, 0.0, 0.0, 0.0, 0.0, 0.0, 0.0, 0.0, 0.0, 0.0, 0.0, 0.0, 0.0, 0.0, 0.0, 0.0, 0.0, 0.0, 0.0, 0.0, 0.0, 0.0, 0.0, 0.0, 0.0, 0.0, 0.0, 0.0, 0.0, 0.0, 0.0, 0.0], [0.0, 0.0, 0.0, 0.0, 0.0, 0.0, 0.0, 0.0, 0.0, 0.0, 0.0, 0.0, 0.0, 0.0, 0.0, 0.0, 0.0, 0.0, 0.0, 0.0, 0.0, 0.0, 0.0, 0.0, 0.0, 0.0, 0.0, 0.0, 0.0, 0.0, 0.0, 0.0, 0.0, 0.0, 0.0, 0.0, 0.0, 0.0, 0.0, 0.0, 0.0, 0.0, 0.0, 0.0, 0.0, 0.0, 0.0, 0.0, 0.0, 0.0, 0.0, 0.0, 0.0, 0.0, 0.0, 0.0, 0.0, 0.0, 0.0, 0.0], [0.0, 0.0, 0.0, 0.0, 0.0, 0.0, 0.0, 0.0, 0.0, 0.0, 0.0, 0.0, 0.0, 0.0, 0.0, 0.0, 0.0, 0.0, 0.0, 0.0, 0.0, 0.0, 0.0, 0.0, 0.0, 0.0, 0.0, 0.0, 0.0, 0.0, 0.0, 0.0, 0.0, 0.0, 0.0, 0.0, 0.0, 0.0, 0.0, 0.0, 0.0, 0.0, 0.0, 0.0, 0.0, 0.0, 0.0, 0.0, 0.0, 0.0, 0.0, 0.0, 0.0, 0.0, 0.0, 0.0, 0.0, 0.0, 0.0, 0.0], [0.0, 0.0, 0.0, 0.0, 0.0, 0.0, 0.0, 0.0, 0.0, 0.0, 0.0, 0.0, 0.0, 0.0, 0.0, 0.0, 0.0, 0.0, 0.0, 0.0, 0.0, 0.0, 0.0, 0.0, 0.0, 0.0, 0.0, 0.0, 0.0, 0.0, 0.0, 0.0, 0.0, 0.0, 0.0, 0.0, 0.0, 0.0, 0.0, 0.0, 0.0, 0.0, 0.0, 0.0, 0.0, 0.0, 0.0, 0.0, 0.0, 0.0, 0.0, 0.0, 0.0, 0.0, 0.0, 0.0, 0.0, 0.0, 0.0, 0.0], [0.0, 0.0, 0.0, 0.0, 0.0, 0.0, 0.0, 0.0, 0.0, 0.0, 0.0, 0.0, 0.0, 0.0, 0.0, 0.0, 0.0, 0.0, 0.0, 0.0, 0.0, 0.0, 0.0, 0.0, 0.0, 0.0, 0.0, 0.0, 0.0, 0.0, 0.0, 0.0, 0.0, 0.0, 0.0, 0.0, 0.0, 0.0, 0.0, 0.0, 0.0, 0.0, 0.0, 0.0, 0.0, 0.0, 0.0, 0.0, 0.0, 0.0, 0.0, 0.0, 0.0, 0.0, 0.0, 0.0, 0.0, 0.0, 0.0, 0.0], [0.0, 0.0, 0.0, 0.0, 0.0, 0.0, 0.0, 0.0, 0.0, 0.0, 0.0, 0.0, 0.0, 0.0, 0.0, 0.0, 0.0, 0.0, 0.0, 0.0, 0.0, 0.0, 0.0, 0.0, 0.0, 0.0, 0.0, 0.0, 0.0, 0.0, 0.0, 0.0, 0.0, 0.0, 0.0, 0.0, 0.0, 0.0, 0.0, 0.0, 0.0, 0.0, 0.0, 0.0, 0.0, 0.0, 0.0, 0.0, 0.0, 0.0, 0.0, 0.0, 0.0, 0.0, 0.0, 0.0, 0.0, 0.0, 0.0, 0.0]]}],                        {\"plot_bgcolor\": \"white\", \"template\": {\"data\": {\"bar\": [{\"error_x\": {\"color\": \"#2a3f5f\"}, \"error_y\": {\"color\": \"#2a3f5f\"}, \"marker\": {\"line\": {\"color\": \"#E5ECF6\", \"width\": 0.5}}, \"type\": \"bar\"}], \"barpolar\": [{\"marker\": {\"line\": {\"color\": \"#E5ECF6\", \"width\": 0.5}}, \"type\": \"barpolar\"}], \"carpet\": [{\"aaxis\": {\"endlinecolor\": \"#2a3f5f\", \"gridcolor\": \"white\", \"linecolor\": \"white\", \"minorgridcolor\": \"white\", \"startlinecolor\": \"#2a3f5f\"}, \"baxis\": {\"endlinecolor\": \"#2a3f5f\", \"gridcolor\": \"white\", \"linecolor\": \"white\", \"minorgridcolor\": \"white\", \"startlinecolor\": \"#2a3f5f\"}, \"type\": \"carpet\"}], \"choropleth\": [{\"colorbar\": {\"outlinewidth\": 0, \"ticks\": \"\"}, \"type\": \"choropleth\"}], \"contour\": [{\"colorbar\": {\"outlinewidth\": 0, \"ticks\": \"\"}, \"colorscale\": [[0.0, \"#0d0887\"], [0.1111111111111111, \"#46039f\"], [0.2222222222222222, \"#7201a8\"], [0.3333333333333333, \"#9c179e\"], [0.4444444444444444, \"#bd3786\"], [0.5555555555555556, \"#d8576b\"], [0.6666666666666666, \"#ed7953\"], [0.7777777777777778, \"#fb9f3a\"], [0.8888888888888888, \"#fdca26\"], [1.0, \"#f0f921\"]], \"type\": \"contour\"}], \"contourcarpet\": [{\"colorbar\": {\"outlinewidth\": 0, \"ticks\": \"\"}, \"type\": \"contourcarpet\"}], \"heatmap\": [{\"colorbar\": {\"outlinewidth\": 0, \"ticks\": \"\"}, \"colorscale\": [[0.0, \"#0d0887\"], [0.1111111111111111, \"#46039f\"], [0.2222222222222222, \"#7201a8\"], [0.3333333333333333, \"#9c179e\"], [0.4444444444444444, \"#bd3786\"], [0.5555555555555556, \"#d8576b\"], [0.6666666666666666, \"#ed7953\"], [0.7777777777777778, \"#fb9f3a\"], [0.8888888888888888, \"#fdca26\"], [1.0, \"#f0f921\"]], \"type\": \"heatmap\"}], \"heatmapgl\": [{\"colorbar\": {\"outlinewidth\": 0, \"ticks\": \"\"}, \"colorscale\": [[0.0, \"#0d0887\"], [0.1111111111111111, \"#46039f\"], [0.2222222222222222, \"#7201a8\"], [0.3333333333333333, \"#9c179e\"], [0.4444444444444444, \"#bd3786\"], [0.5555555555555556, \"#d8576b\"], [0.6666666666666666, \"#ed7953\"], [0.7777777777777778, \"#fb9f3a\"], [0.8888888888888888, \"#fdca26\"], [1.0, \"#f0f921\"]], \"type\": \"heatmapgl\"}], \"histogram\": [{\"marker\": {\"colorbar\": {\"outlinewidth\": 0, \"ticks\": \"\"}}, \"type\": \"histogram\"}], \"histogram2d\": [{\"colorbar\": {\"outlinewidth\": 0, \"ticks\": \"\"}, \"colorscale\": [[0.0, \"#0d0887\"], [0.1111111111111111, \"#46039f\"], [0.2222222222222222, \"#7201a8\"], [0.3333333333333333, \"#9c179e\"], [0.4444444444444444, \"#bd3786\"], [0.5555555555555556, \"#d8576b\"], [0.6666666666666666, \"#ed7953\"], [0.7777777777777778, \"#fb9f3a\"], [0.8888888888888888, \"#fdca26\"], [1.0, \"#f0f921\"]], \"type\": \"histogram2d\"}], \"histogram2dcontour\": [{\"colorbar\": {\"outlinewidth\": 0, \"ticks\": \"\"}, \"colorscale\": [[0.0, \"#0d0887\"], [0.1111111111111111, \"#46039f\"], [0.2222222222222222, \"#7201a8\"], [0.3333333333333333, \"#9c179e\"], [0.4444444444444444, \"#bd3786\"], [0.5555555555555556, \"#d8576b\"], [0.6666666666666666, \"#ed7953\"], [0.7777777777777778, \"#fb9f3a\"], [0.8888888888888888, \"#fdca26\"], [1.0, \"#f0f921\"]], \"type\": \"histogram2dcontour\"}], \"mesh3d\": [{\"colorbar\": {\"outlinewidth\": 0, \"ticks\": \"\"}, \"type\": \"mesh3d\"}], \"parcoords\": [{\"line\": {\"colorbar\": {\"outlinewidth\": 0, \"ticks\": \"\"}}, \"type\": \"parcoords\"}], \"pie\": [{\"automargin\": true, \"type\": \"pie\"}], \"scatter\": [{\"marker\": {\"colorbar\": {\"outlinewidth\": 0, \"ticks\": \"\"}}, \"type\": \"scatter\"}], \"scatter3d\": [{\"line\": {\"colorbar\": {\"outlinewidth\": 0, \"ticks\": \"\"}}, \"marker\": {\"colorbar\": {\"outlinewidth\": 0, \"ticks\": \"\"}}, \"type\": \"scatter3d\"}], \"scattercarpet\": [{\"marker\": {\"colorbar\": {\"outlinewidth\": 0, \"ticks\": \"\"}}, \"type\": \"scattercarpet\"}], \"scattergeo\": [{\"marker\": {\"colorbar\": {\"outlinewidth\": 0, \"ticks\": \"\"}}, \"type\": \"scattergeo\"}], \"scattergl\": [{\"marker\": {\"colorbar\": {\"outlinewidth\": 0, \"ticks\": \"\"}}, \"type\": \"scattergl\"}], \"scattermapbox\": [{\"marker\": {\"colorbar\": {\"outlinewidth\": 0, \"ticks\": \"\"}}, \"type\": \"scattermapbox\"}], \"scatterpolar\": [{\"marker\": {\"colorbar\": {\"outlinewidth\": 0, \"ticks\": \"\"}}, \"type\": \"scatterpolar\"}], \"scatterpolargl\": [{\"marker\": {\"colorbar\": {\"outlinewidth\": 0, \"ticks\": \"\"}}, \"type\": \"scatterpolargl\"}], \"scatterternary\": [{\"marker\": {\"colorbar\": {\"outlinewidth\": 0, \"ticks\": \"\"}}, \"type\": \"scatterternary\"}], \"surface\": [{\"colorbar\": {\"outlinewidth\": 0, \"ticks\": \"\"}, \"colorscale\": [[0.0, \"#0d0887\"], [0.1111111111111111, \"#46039f\"], [0.2222222222222222, \"#7201a8\"], [0.3333333333333333, \"#9c179e\"], [0.4444444444444444, \"#bd3786\"], [0.5555555555555556, \"#d8576b\"], [0.6666666666666666, \"#ed7953\"], [0.7777777777777778, \"#fb9f3a\"], [0.8888888888888888, \"#fdca26\"], [1.0, \"#f0f921\"]], \"type\": \"surface\"}], \"table\": [{\"cells\": {\"fill\": {\"color\": \"#EBF0F8\"}, \"line\": {\"color\": \"white\"}}, \"header\": {\"fill\": {\"color\": \"#C8D4E3\"}, \"line\": {\"color\": \"white\"}}, \"type\": \"table\"}]}, \"layout\": {\"annotationdefaults\": {\"arrowcolor\": \"#2a3f5f\", \"arrowhead\": 0, \"arrowwidth\": 1}, \"autotypenumbers\": \"strict\", \"coloraxis\": {\"colorbar\": {\"outlinewidth\": 0, \"ticks\": \"\"}}, \"colorscale\": {\"diverging\": [[0, \"#8e0152\"], [0.1, \"#c51b7d\"], [0.2, \"#de77ae\"], [0.3, \"#f1b6da\"], [0.4, \"#fde0ef\"], [0.5, \"#f7f7f7\"], [0.6, \"#e6f5d0\"], [0.7, \"#b8e186\"], [0.8, \"#7fbc41\"], [0.9, \"#4d9221\"], [1, \"#276419\"]], \"sequential\": [[0.0, \"#0d0887\"], [0.1111111111111111, \"#46039f\"], [0.2222222222222222, \"#7201a8\"], [0.3333333333333333, \"#9c179e\"], [0.4444444444444444, \"#bd3786\"], [0.5555555555555556, \"#d8576b\"], [0.6666666666666666, \"#ed7953\"], [0.7777777777777778, \"#fb9f3a\"], [0.8888888888888888, \"#fdca26\"], [1.0, \"#f0f921\"]], \"sequentialminus\": [[0.0, \"#0d0887\"], [0.1111111111111111, \"#46039f\"], [0.2222222222222222, \"#7201a8\"], [0.3333333333333333, \"#9c179e\"], [0.4444444444444444, \"#bd3786\"], [0.5555555555555556, \"#d8576b\"], [0.6666666666666666, \"#ed7953\"], [0.7777777777777778, \"#fb9f3a\"], [0.8888888888888888, \"#fdca26\"], [1.0, \"#f0f921\"]]}, \"colorway\": [\"#636efa\", \"#EF553B\", \"#00cc96\", \"#ab63fa\", \"#FFA15A\", \"#19d3f3\", \"#FF6692\", \"#B6E880\", \"#FF97FF\", \"#FECB52\"], \"font\": {\"color\": \"#2a3f5f\"}, \"geo\": {\"bgcolor\": \"white\", \"lakecolor\": \"white\", \"landcolor\": \"#E5ECF6\", \"showlakes\": true, \"showland\": true, \"subunitcolor\": \"white\"}, \"hoverlabel\": {\"align\": \"left\"}, \"hovermode\": \"closest\", \"mapbox\": {\"style\": \"light\"}, \"paper_bgcolor\": \"white\", \"plot_bgcolor\": \"#E5ECF6\", \"polar\": {\"angularaxis\": {\"gridcolor\": \"white\", \"linecolor\": \"white\", \"ticks\": \"\"}, \"bgcolor\": \"#E5ECF6\", \"radialaxis\": {\"gridcolor\": \"white\", \"linecolor\": \"white\", \"ticks\": \"\"}}, \"scene\": {\"xaxis\": {\"backgroundcolor\": \"#E5ECF6\", \"gridcolor\": \"white\", \"gridwidth\": 2, \"linecolor\": \"white\", \"showbackground\": true, \"ticks\": \"\", \"zerolinecolor\": \"white\"}, \"yaxis\": {\"backgroundcolor\": \"#E5ECF6\", \"gridcolor\": \"white\", \"gridwidth\": 2, \"linecolor\": \"white\", \"showbackground\": true, \"ticks\": \"\", \"zerolinecolor\": \"white\"}, \"zaxis\": {\"backgroundcolor\": \"#E5ECF6\", \"gridcolor\": \"white\", \"gridwidth\": 2, \"linecolor\": \"white\", \"showbackground\": true, \"ticks\": \"\", \"zerolinecolor\": \"white\"}}, \"shapedefaults\": {\"line\": {\"color\": \"#2a3f5f\"}}, \"ternary\": {\"aaxis\": {\"gridcolor\": \"white\", \"linecolor\": \"white\", \"ticks\": \"\"}, \"baxis\": {\"gridcolor\": \"white\", \"linecolor\": \"white\", \"ticks\": \"\"}, \"bgcolor\": \"#E5ECF6\", \"caxis\": {\"gridcolor\": \"white\", \"linecolor\": \"white\", \"ticks\": \"\"}}, \"title\": {\"x\": 0.05}, \"xaxis\": {\"automargin\": true, \"gridcolor\": \"white\", \"linecolor\": \"white\", \"ticks\": \"\", \"title\": {\"standoff\": 15}, \"zerolinecolor\": \"white\", \"zerolinewidth\": 2}, \"yaxis\": {\"automargin\": true, \"gridcolor\": \"white\", \"linecolor\": \"white\", \"ticks\": \"\", \"title\": {\"standoff\": 15}, \"zerolinecolor\": \"white\", \"zerolinewidth\": 2}}}, \"title\": {\"text\": \"Heat kernel representation of diagram 0 in homology dimension 1\"}, \"xaxis\": {\"constrain\": \"domain\", \"scaleanchor\": \"y\"}, \"yaxis\": {\"autorange\": true, \"constrain\": \"domain\"}},                        {\"responsive\": true}                    ).then(function(){\n",
              "                            \n",
              "var gd = document.getElementById('ba090702-aaae-434d-ab80-5d216becbea9');\n",
              "var x = new MutationObserver(function (mutations, observer) {{\n",
              "        var display = window.getComputedStyle(gd).display;\n",
              "        if (!display || display === 'none') {{\n",
              "            console.log([gd, 'removed!']);\n",
              "            Plotly.purge(gd);\n",
              "            observer.disconnect();\n",
              "        }}\n",
              "}});\n",
              "\n",
              "// Listen for the removal of the full notebook cells\n",
              "var notebookContainer = gd.closest('#notebook-container');\n",
              "if (notebookContainer) {{\n",
              "    x.observe(notebookContainer, {childList: true});\n",
              "}}\n",
              "\n",
              "// Listen for the clearing of the current output cell\n",
              "var outputEl = gd.closest('.output');\n",
              "if (outputEl) {{\n",
              "    x.observe(outputEl, {childList: true});\n",
              "}}\n",
              "\n",
              "                        })                };                            </script>        </div>\n",
              "</body>\n",
              "</html>"
            ]
          },
          "metadata": {
            "tags": []
          }
        }
      ]
    },
    {
      "cell_type": "markdown",
      "metadata": {
        "id": "YrLA8Hhz0X3Z"
      },
      "source": [
        "### 4. Creating pipeline"
      ],
      "id": "YrLA8Hhz0X3Z"
    },
    {
      "cell_type": "code",
      "metadata": {
        "id": "y64U7RgM0Zut"
      },
      "source": [
        "direction_list = [[1, 0], [1, 1], [0, 1], [-1, 1], [-1, 0], [-1, -1], [0, -1], [1, -1]]\n",
        "\n",
        "center_list = [\n",
        "    [13, 6],\n",
        "    [6, 13],\n",
        "    [13, 13],\n",
        "    [20, 13],\n",
        "    [13, 20],\n",
        "    [6, 6],\n",
        "    [6, 20],\n",
        "    [20, 6],\n",
        "    [20, 20],\n",
        "]\n",
        "\n",
        "# Creating a list of all filtration transformer, we will be applying\n",
        "filtration_list = (\n",
        "    [\n",
        "        HeightFiltration(direction=np.array(direction), n_jobs=-1)\n",
        "        for direction in direction_list\n",
        "    ]\n",
        "    + [RadialFiltration(center=np.array(center), n_jobs=-1) for center in center_list]\n",
        ")\n",
        "\n",
        "# Creating the diagram generation pipeline\n",
        "diagram_steps = [\n",
        "    [\n",
        "        Binarizer(threshold=0.4, n_jobs=-1),\n",
        "        filtration,\n",
        "        CubicalPersistence(n_jobs=-1),\n",
        "        Scaler(n_jobs=-1),\n",
        "    ]\n",
        "    for filtration in filtration_list\n",
        "]\n",
        "\n",
        "# Listing all metrics we want to use to extract diagram amplitudes\n",
        "metric_list = [\n",
        "    {\"metric\": \"bottleneck\", \"metric_params\": {}},\n",
        "    {\"metric\": \"wasserstein\", \"metric_params\": {\"p\": 1}},\n",
        "    {\"metric\": \"wasserstein\", \"metric_params\": {\"p\": 2}},\n",
        "    {\"metric\": \"landscape\", \"metric_params\": {\"p\": 1, \"n_layers\": 1, \"n_bins\": 100}},\n",
        "    {\"metric\": \"landscape\", \"metric_params\": {\"p\": 1, \"n_layers\": 2, \"n_bins\": 100}},\n",
        "    {\"metric\": \"landscape\", \"metric_params\": {\"p\": 2, \"n_layers\": 1, \"n_bins\": 100}},\n",
        "    {\"metric\": \"landscape\", \"metric_params\": {\"p\": 2, \"n_layers\": 2, \"n_bins\": 100}},\n",
        "    {\"metric\": \"betti\", \"metric_params\": {\"p\": 1, \"n_bins\": 100}},\n",
        "    {\"metric\": \"betti\", \"metric_params\": {\"p\": 2, \"n_bins\": 100}},\n",
        "    {\"metric\": \"heat\", \"metric_params\": {\"p\": 1, \"sigma\": 1.6, \"n_bins\": 100}},\n",
        "    {\"metric\": \"heat\", \"metric_params\": {\"p\": 1, \"sigma\": 3.2, \"n_bins\": 100}},\n",
        "    {\"metric\": \"heat\", \"metric_params\": {\"p\": 2, \"sigma\": 1.6, \"n_bins\": 100}},\n",
        "    {\"metric\": \"heat\", \"metric_params\": {\"p\": 2, \"sigma\": 3.2, \"n_bins\": 100}},\n",
        "]\n",
        "\n",
        "\n",
        "feature_union = make_union(\n",
        "    *[PersistenceEntropy(nan_fill_value=-1)]\n",
        "    + [Amplitude(**metric, n_jobs=-1) for metric in metric_list]\n",
        ")\n",
        "\n",
        "tda_union = make_union(\n",
        "    *[make_pipeline(*diagram_step, feature_union) for diagram_step in diagram_steps],\n",
        "    n_jobs=-1\n",
        ")\n"
      ],
      "id": "y64U7RgM0Zut",
      "execution_count": null,
      "outputs": []
    },
    {
      "cell_type": "code",
      "metadata": {
        "colab": {
          "base_uri": "https://localhost:8080/"
        },
        "id": "HYgE7X5R1aup",
        "outputId": "8594c456-9996-463b-8624-5b3dfa7b275e"
      },
      "source": [
        "X_train_tda = tda_union.fit_transform(X_train)\n",
        "X_test_tda = tda_union.transform(X_test)\n",
        "X_train_tda.shape"
      ],
      "id": "HYgE7X5R1aup",
      "execution_count": null,
      "outputs": [
        {
          "output_type": "execute_result",
          "data": {
            "text/plain": [
              "(700, 476)"
            ]
          },
          "metadata": {
            "tags": []
          },
          "execution_count": 8
        }
      ]
    },
    {
      "cell_type": "markdown",
      "metadata": {
        "id": "cbG5XPaT1xLo"
      },
      "source": [
        "### 5. Classification"
      ],
      "id": "cbG5XPaT1xLo"
    },
    {
      "cell_type": "markdown",
      "metadata": {
        "id": "6BEZ9IC1E9VI"
      },
      "source": [
        "Random Forest Classifier:"
      ],
      "id": "6BEZ9IC1E9VI"
    },
    {
      "cell_type": "code",
      "metadata": {
        "colab": {
          "base_uri": "https://localhost:8080/"
        },
        "id": "hW221IYsE_zg",
        "outputId": "af987a5b-cb35-421c-c743-f4928b6161be"
      },
      "source": [
        "rf = RandomForestClassifier()\n",
        "rf.fit(X_train_tda, y_train)\n",
        "\n",
        "rf.score(X_test_tda, y_test)"
      ],
      "id": "hW221IYsE_zg",
      "execution_count": null,
      "outputs": [
        {
          "output_type": "execute_result",
          "data": {
            "text/plain": [
              "0.8833333333333333"
            ]
          },
          "metadata": {
            "tags": []
          },
          "execution_count": 10
        }
      ]
    },
    {
      "cell_type": "markdown",
      "metadata": {
        "id": "5lNzM0XcFBtT"
      },
      "source": [
        "Logistic Regression:"
      ],
      "id": "5lNzM0XcFBtT"
    },
    {
      "cell_type": "code",
      "metadata": {
        "colab": {
          "base_uri": "https://localhost:8080/"
        },
        "id": "bgca3n62FDik",
        "outputId": "a80af63a-184f-4d11-89d0-9337ce8fc773"
      },
      "source": [
        "lr = LogisticRegression()\n",
        "lr.fit(X_train_tda, y_train)\n",
        "\n",
        "lr.score(X_test_tda, y_test)"
      ],
      "id": "bgca3n62FDik",
      "execution_count": null,
      "outputs": [
        {
          "output_type": "stream",
          "text": [
            "/usr/local/lib/python3.7/dist-packages/sklearn/linear_model/_logistic.py:765: ConvergenceWarning: lbfgs failed to converge (status=1):\n",
            "STOP: TOTAL NO. of ITERATIONS REACHED LIMIT.\n",
            "\n",
            "Increase the number of iterations (max_iter) or scale the data as shown in:\n",
            "    https://scikit-learn.org/stable/modules/preprocessing.html\n",
            "Please also refer to the documentation for alternative solver options:\n",
            "    https://scikit-learn.org/stable/modules/linear_model.html#logistic-regression\n",
            "  extra_warning_msg=_LOGISTIC_SOLVER_CONVERGENCE_MSG)\n"
          ],
          "name": "stderr"
        },
        {
          "output_type": "execute_result",
          "data": {
            "text/plain": [
              "0.9033333333333333"
            ]
          },
          "metadata": {
            "tags": []
          },
          "execution_count": 11
        }
      ]
    },
    {
      "cell_type": "markdown",
      "metadata": {
        "id": "3ry87vA4DiX9"
      },
      "source": [
        "Support Vector Machine Classifier:"
      ],
      "id": "3ry87vA4DiX9"
    },
    {
      "cell_type": "code",
      "metadata": {
        "colab": {
          "base_uri": "https://localhost:8080/"
        },
        "id": "uP0SqaC7Dhum",
        "outputId": "253b85c8-d273-4176-91cc-5ce74bed0c32"
      },
      "source": [
        "svc = SVC(kernel='linear')\n",
        "svc.fit(X_train_tda, y_train)\n",
        "\n",
        "svc.score(X_test_tda, y_test)"
      ],
      "id": "uP0SqaC7Dhum",
      "execution_count": null,
      "outputs": [
        {
          "output_type": "execute_result",
          "data": {
            "text/plain": [
              "0.8833333333333333"
            ]
          },
          "metadata": {
            "tags": []
          },
          "execution_count": 12
        }
      ]
    },
    {
      "cell_type": "code",
      "metadata": {
        "colab": {
          "base_uri": "https://localhost:8080/"
        },
        "id": "_ECELpD99cmN",
        "outputId": "66e3e1a9-2cb7-4e3b-9885-d589df94dbad"
      },
      "source": [
        "svc.get_params()"
      ],
      "id": "_ECELpD99cmN",
      "execution_count": null,
      "outputs": [
        {
          "output_type": "execute_result",
          "data": {
            "text/plain": [
              "{'C': 1.0,\n",
              " 'break_ties': False,\n",
              " 'cache_size': 200,\n",
              " 'class_weight': None,\n",
              " 'coef0': 0.0,\n",
              " 'decision_function_shape': 'ovr',\n",
              " 'degree': 3,\n",
              " 'gamma': 'scale',\n",
              " 'kernel': 'linear',\n",
              " 'max_iter': -1,\n",
              " 'probability': False,\n",
              " 'random_state': None,\n",
              " 'shrinking': True,\n",
              " 'tol': 0.001,\n",
              " 'verbose': False}"
            ]
          },
          "metadata": {
            "tags": []
          },
          "execution_count": 13
        }
      ]
    },
    {
      "cell_type": "code",
      "metadata": {
        "colab": {
          "base_uri": "https://localhost:8080/"
        },
        "id": "zFR65vCFSvyl",
        "outputId": "ee37ee24-5ced-4a4d-cefb-7cf6630c7486"
      },
      "source": [
        "lgbm = LGBMClassifier()\n",
        "\n",
        "lgbm.fit(X_train_tda, y_train)\n",
        "lgbm.score(X_test_tda, y_test)"
      ],
      "id": "zFR65vCFSvyl",
      "execution_count": null,
      "outputs": [
        {
          "output_type": "execute_result",
          "data": {
            "text/plain": [
              "0.8666666666666667"
            ]
          },
          "metadata": {
            "tags": []
          },
          "execution_count": 14
        }
      ]
    },
    {
      "cell_type": "code",
      "metadata": {
        "id": "fqEeYgxctyj0"
      },
      "source": [
        "# cat = CatBoostClassifier(iterations=10,\n",
        "#                            learning_rate=1,\n",
        "#                            depth=2,\n",
        "#                            loss_function='MultiClass')\n",
        "\n",
        "cat = CatBoostClassifier()\n",
        "\n",
        "# grid = {'learning_rate': [0.03, 0.1],\n",
        "#         'depth': [4, 6, 10],\n",
        "#         'l2_leaf_reg': [1, 3, 5, 7, 9]}\n",
        "\n",
        "# grid_search_result = cat.grid_search(grid, \n",
        "#                                        X=X_train_tda, \n",
        "#                                        y=y_train, \n",
        "#                                        plot=True,\n",
        "#                                        n_jobs=-1)\n",
        "\n",
        "cat.fit(X_train_tda, y_train)\n",
        "\n",
        "cat.score(X_test_tda, y_test)"
      ],
      "id": "fqEeYgxctyj0",
      "execution_count": null,
      "outputs": []
    },
    {
      "cell_type": "code",
      "metadata": {
        "colab": {
          "base_uri": "https://localhost:8080/"
        },
        "id": "ysDnrt8w1boB",
        "outputId": "25b6ad40-9a3b-4195-dad0-b7e0ca31ac64"
      },
      "source": [
        "xgb = XGBClassifier()\n",
        "\n",
        "xgb.fit(X_train_tda, y_train)\n",
        "xgb.score(X_test_tda, y_test)"
      ],
      "id": "ysDnrt8w1boB",
      "execution_count": null,
      "outputs": [
        {
          "output_type": "execute_result",
          "data": {
            "text/plain": [
              "0.88"
            ]
          },
          "metadata": {
            "tags": []
          },
          "execution_count": 18
        }
      ]
    },
    {
      "cell_type": "markdown",
      "metadata": {
        "id": "lsy25GEUHLCL"
      },
      "source": [
        "### 6. Tuning"
      ],
      "id": "lsy25GEUHLCL"
    },
    {
      "cell_type": "markdown",
      "metadata": {
        "id": "EDTC1eC8yuv0"
      },
      "source": [
        "#### 6.1 Feature Selection"
      ],
      "id": "EDTC1eC8yuv0"
    },
    {
      "cell_type": "code",
      "metadata": {
        "id": "bsyGOIpZV3rY"
      },
      "source": [
        "rf = RandomForestClassifier()\n",
        "rf.fit(X_train_tda, y_train)\n",
        "\n",
        "bestFeatures = rf.feature_importances_.argsort()[-250:][::-1]\n",
        "X_train_best = X_train_tda[:, bestFeatures]"
      ],
      "id": "bsyGOIpZV3rY",
      "execution_count": null,
      "outputs": []
    },
    {
      "cell_type": "markdown",
      "metadata": {
        "id": "ky7ZqL9K9nF2"
      },
      "source": [
        "#### 6.2 Tuning models"
      ],
      "id": "ky7ZqL9K9nF2"
    },
    {
      "cell_type": "markdown",
      "metadata": {
        "id": "_VCq6FvR9rmb"
      },
      "source": [
        "##### 6.2.1 Random Forest __(0.8842913563943607 for 200 features & 0.8742831639827348 for 250)__"
      ],
      "id": "_VCq6FvR9rmb"
    },
    {
      "cell_type": "code",
      "metadata": {
        "colab": {
          "base_uri": "https://localhost:8080/"
        },
        "id": "ZdMAgPMe4M5C",
        "outputId": "02a52559-f25f-4491-d421-126bb9650b8a"
      },
      "source": [
        "# rf_pipeline = Pipeline([\n",
        "#     ('features', tda_union),\n",
        "#     ('classifier', RandomForestClassifier(random_state=42))\n",
        "# ])\n",
        "\n",
        "# threshold_list = [0.1, 0.4, 0.7, 0.9]\n",
        "# direction_list = [[1, 0], [1, 1], [0, 1], [-1, 1], [-1, 0], [-1, -1], [0, -1], [1, -1]]\n",
        "# n_estimators_list = [500, 1000, 2000]\n",
        "\n",
        "# param_grid = {\n",
        "#     #\"filtration__direction\": [np.array(direction) for direction in direction_list],\n",
        "#     \"classifier__n_estimators\": [n_estimators for n_estimators in n_estimators_list],\n",
        "#     'classifier__max_depth': [80, 90, 100],\n",
        "#     'classifier__max_features': [2, 3, 4],\n",
        "#     #'classifier__min_samples_leaf': [3, 4, 5],\n",
        "#     #'classifier__min_samples_split': [8, 10, 12],\n",
        "#     'classifier__n_estimators': [100, 200, 300, 1000]\n",
        "# }\n",
        "\n",
        "# grid_search = GridSearchCV(\n",
        "#     estimator=rf_pipeline, param_grid=param_grid, cv=3, n_jobs=-1, verbose=2\n",
        "# )\n",
        "\n",
        "# grid_search.fit(X_train, y_train)\n",
        "\n",
        "rf_params = {\n",
        "    \"n_estimators\": [500, 1000, 2000],\n",
        "    'max_depth': [80, 90, 100],\n",
        "    'max_features': [2, 3, 4],\n",
        "    'min_samples_leaf': [3, 4, 5],\n",
        "    'min_samples_split': [8, 10, 12],\n",
        "    'n_estimators': [100, 200, 300, 1000]\n",
        "}\n",
        "\n",
        "rf = RandomForestClassifier(random_state=42)\n",
        "\n",
        "rf_grid = GridSearchCV(\n",
        "    estimator=rf, param_grid=rf_params, cv=3, n_jobs=-1, verbose=4\n",
        ")\n",
        "\n",
        "rf_grid.fit(X_train_best, y_train)"
      ],
      "id": "ZdMAgPMe4M5C",
      "execution_count": null,
      "outputs": [
        {
          "output_type": "stream",
          "text": [
            "Fitting 3 folds for each of 324 candidates, totalling 972 fits\n"
          ],
          "name": "stdout"
        },
        {
          "output_type": "execute_result",
          "data": {
            "text/plain": [
              "GridSearchCV(cv=3, estimator=RandomForestClassifier(random_state=42), n_jobs=-1,\n",
              "             param_grid={'max_depth': [80, 90, 100], 'max_features': [2, 3, 4],\n",
              "                         'min_samples_leaf': [3, 4, 5],\n",
              "                         'min_samples_split': [8, 10, 12],\n",
              "                         'n_estimators': [100, 200, 300, 1000]},\n",
              "             verbose=4)"
            ]
          },
          "metadata": {
            "tags": []
          },
          "execution_count": 45
        }
      ]
    },
    {
      "cell_type": "code",
      "metadata": {
        "colab": {
          "base_uri": "https://localhost:8080/"
        },
        "id": "5LIQ94YL8EUY",
        "outputId": "182f97ea-a0fb-4915-d667-06bc011c334e"
      },
      "source": [
        "rf_grid.best_score_"
      ],
      "id": "5LIQ94YL8EUY",
      "execution_count": null,
      "outputs": [
        {
          "output_type": "execute_result",
          "data": {
            "text/plain": [
              "0.8742831639827348"
            ]
          },
          "metadata": {
            "tags": []
          },
          "execution_count": 46
        }
      ]
    },
    {
      "cell_type": "code",
      "metadata": {
        "colab": {
          "base_uri": "https://localhost:8080/"
        },
        "id": "gnGbMF-B1bP5",
        "outputId": "5fd265e3-1704-45f7-f146-78215206f600"
      },
      "source": [
        "rf_grid.best_params_"
      ],
      "id": "gnGbMF-B1bP5",
      "execution_count": null,
      "outputs": [
        {
          "output_type": "execute_result",
          "data": {
            "text/plain": [
              "{'max_depth': 80,\n",
              " 'max_features': 4,\n",
              " 'min_samples_leaf': 4,\n",
              " 'min_samples_split': 8,\n",
              " 'n_estimators': 200}"
            ]
          },
          "metadata": {
            "tags": []
          },
          "execution_count": 47
        }
      ]
    },
    {
      "cell_type": "markdown",
      "metadata": {
        "id": "IlFeg2YY9wLc"
      },
      "source": [
        "##### 6.2.2 Support Vector Machine __(0.901409828448455 for 200 features & 0.9113996796400231 for 250)__"
      ],
      "id": "IlFeg2YY9wLc"
    },
    {
      "cell_type": "code",
      "metadata": {
        "colab": {
          "base_uri": "https://localhost:8080/"
        },
        "id": "9VzJ8NsUxbNN",
        "outputId": "ae1c8f2d-961c-40d2-b515-d20e531c2e6e"
      },
      "source": [
        "svm_params = {\n",
        "    'kernel' : ('linear', 'sigmoid', 'rbf', 'poly'),\n",
        "    'C' : [10 ** i for i in range(-2, 3)],\n",
        "    'degree' : [3, 5, 7],\n",
        "    'coef0' : [j**i for i in np.arange(-4,1,1) for j in np.arange(1.,4.,1.)],\n",
        "    'gamma' : ('scale', 'auto'),\n",
        "    'decision_function_shape': ('ovr', 'ovo')\n",
        "}\n",
        "\n",
        "svm = SVC(random_state=42)\n",
        "\n",
        "svm_grid = GridSearchCV(\n",
        "    estimator=svm, param_grid=svm_params, cv=3, n_jobs=-1, verbose=4\n",
        ")\n",
        "\n",
        "svm_grid.fit(X_train_best, y_train)"
      ],
      "id": "9VzJ8NsUxbNN",
      "execution_count": null,
      "outputs": [
        {
          "output_type": "stream",
          "text": [
            "Fitting 3 folds for each of 3600 candidates, totalling 10800 fits\n"
          ],
          "name": "stdout"
        },
        {
          "output_type": "execute_result",
          "data": {
            "text/plain": [
              "GridSearchCV(cv=3, estimator=SVC(random_state=42), n_jobs=-1,\n",
              "             param_grid={'C': [0.01, 0.1, 1, 10, 100],\n",
              "                         'coef0': [1.0, 0.0625, 0.012345679012345678, 1.0,\n",
              "                                   0.125, 0.037037037037037035, 1.0, 0.25,\n",
              "                                   0.1111111111111111, 1.0, 0.5,\n",
              "                                   0.3333333333333333, 1.0, 1.0, 1.0],\n",
              "                         'decision_function_shape': ('ovr', 'ovo'),\n",
              "                         'degree': [3, 5, 7], 'gamma': ('scale', 'auto'),\n",
              "                         'kernel': ('linear', 'sigmoid', 'rbf', 'poly')},\n",
              "             verbose=4)"
            ]
          },
          "metadata": {
            "tags": []
          },
          "execution_count": 48
        }
      ]
    },
    {
      "cell_type": "code",
      "metadata": {
        "colab": {
          "base_uri": "https://localhost:8080/"
        },
        "id": "MCguPemuy38J",
        "outputId": "b7cfd82e-41f5-4ce6-8f7a-836e1efd361a"
      },
      "source": [
        "svm_grid.best_score_"
      ],
      "id": "MCguPemuy38J",
      "execution_count": null,
      "outputs": [
        {
          "output_type": "execute_result",
          "data": {
            "text/plain": [
              "0.9113996796400231"
            ]
          },
          "metadata": {
            "tags": []
          },
          "execution_count": 49
        }
      ]
    },
    {
      "cell_type": "code",
      "metadata": {
        "colab": {
          "base_uri": "https://localhost:8080/"
        },
        "id": "xNZlm5kWy4pP",
        "outputId": "56f01900-ba38-49a4-895c-60f0747ddfd2"
      },
      "source": [
        "svm_grid.best_params_"
      ],
      "id": "xNZlm5kWy4pP",
      "execution_count": null,
      "outputs": [
        {
          "output_type": "execute_result",
          "data": {
            "text/plain": [
              "{'C': 1,\n",
              " 'coef0': 1.0,\n",
              " 'decision_function_shape': 'ovr',\n",
              " 'degree': 3,\n",
              " 'gamma': 'scale',\n",
              " 'kernel': 'linear'}"
            ]
          },
          "metadata": {
            "tags": []
          },
          "execution_count": 50
        }
      ]
    },
    {
      "cell_type": "markdown",
      "metadata": {
        "id": "muePlohR4dGa"
      },
      "source": [
        "##### 6.2.3 Logistic Regression __(0.9028526710930146 for 200 features & 0.9099874056955602 for 250)__"
      ],
      "id": "muePlohR4dGa"
    },
    {
      "cell_type": "code",
      "metadata": {
        "colab": {
          "base_uri": "https://localhost:8080/"
        },
        "id": "CntcuGVj4b7h",
        "outputId": "6a028afc-df6d-4e56-f967-c3f6a283fc32"
      },
      "source": [
        "log_params = {\n",
        "    \"C\" : np.logspace(-3,3,7), \n",
        "    \"penalty\" : [\"l1\",\"l2\", \"lasso\"],\n",
        "    \"solver\" : [\"newton-cg\", \"lbfgs\", \"liblinear\", \"sag\", \"saga\"]\n",
        "}\n",
        "\n",
        "log = LogisticRegression()\n",
        "\n",
        "log_grid = GridSearchCV(\n",
        "    estimator=log, param_grid=log_params, cv=3, n_jobs=-1, verbose=4\n",
        ")\n",
        "\n",
        "log_grid.fit(X_train_best, y_train)"
      ],
      "id": "CntcuGVj4b7h",
      "execution_count": null,
      "outputs": [
        {
          "output_type": "stream",
          "text": [
            "Fitting 3 folds for each of 105 candidates, totalling 315 fits\n"
          ],
          "name": "stdout"
        },
        {
          "output_type": "stream",
          "text": [
            "/usr/local/lib/python3.7/dist-packages/sklearn/model_selection/_search.py:925: UserWarning: One or more of the test scores are non-finite: [       nan        nan 0.10000245        nan 0.11429637 0.49996943\n",
            " 0.49996943 0.35710355 0.49996943 0.49854493        nan        nan\n",
            "        nan        nan        nan        nan        nan 0.24715405\n",
            "        nan 0.11285353 0.73859482 0.73859482 0.68569874 0.73859482\n",
            " 0.74001932        nan        nan        nan        nan        nan\n",
            "        nan        nan 0.70000489        nan 0.7656848  0.83571769\n",
            " 0.83571769 0.84428916 0.83571158 0.83571769        nan        nan\n",
            "        nan        nan        nan        nan        nan 0.87571989\n",
            "        nan 0.85430958 0.87858724 0.87858724 0.88144235 0.87573823\n",
            " 0.87431373        nan        nan        nan        nan        nan\n",
            "        nan        nan 0.90427717        nan 0.87430762 0.89857305\n",
            " 0.89572405 0.90141594 0.88000562 0.87430151        nan        nan\n",
            "        nan        nan        nan        nan        nan 0.89855471\n",
            "        nan 0.872877   0.89143832 0.89142609 0.90570167 0.88000562\n",
            " 0.87430151        nan        nan        nan        nan        nan\n",
            "        nan        nan 0.90998741        nan 0.87430762 0.8900077\n",
            " 0.88287908 0.89714244 0.88000562 0.87573212        nan        nan\n",
            "        nan        nan        nan]\n",
            "  category=UserWarning\n"
          ],
          "name": "stderr"
        },
        {
          "output_type": "execute_result",
          "data": {
            "text/plain": [
              "GridSearchCV(cv=3, estimator=LogisticRegression(), n_jobs=-1,\n",
              "             param_grid={'C': array([1.e-03, 1.e-02, 1.e-01, 1.e+00, 1.e+01, 1.e+02, 1.e+03]),\n",
              "                         'penalty': ['l1', 'l2', 'lasso'],\n",
              "                         'solver': ['newton-cg', 'lbfgs', 'liblinear', 'sag',\n",
              "                                    'saga']},\n",
              "             verbose=4)"
            ]
          },
          "metadata": {
            "tags": []
          },
          "execution_count": 51
        }
      ]
    },
    {
      "cell_type": "code",
      "metadata": {
        "colab": {
          "base_uri": "https://localhost:8080/"
        },
        "id": "8Tec1ZYw6iR_",
        "outputId": "f07e1ef1-9762-4f68-92ca-9082ed9419bb"
      },
      "source": [
        "log_grid.best_score_"
      ],
      "id": "8Tec1ZYw6iR_",
      "execution_count": null,
      "outputs": [
        {
          "output_type": "execute_result",
          "data": {
            "text/plain": [
              "0.9099874056955602"
            ]
          },
          "metadata": {
            "tags": []
          },
          "execution_count": 52
        }
      ]
    },
    {
      "cell_type": "code",
      "metadata": {
        "colab": {
          "base_uri": "https://localhost:8080/"
        },
        "id": "9ckKLCGt6mdn",
        "outputId": "a11b022e-5b1e-40c7-a5b9-760b8e2a7b5b"
      },
      "source": [
        "log_grid.best_params_"
      ],
      "id": "9ckKLCGt6mdn",
      "execution_count": null,
      "outputs": [
        {
          "output_type": "execute_result",
          "data": {
            "text/plain": [
              "{'C': 1000.0, 'penalty': 'l1', 'solver': 'liblinear'}"
            ]
          },
          "metadata": {
            "tags": []
          },
          "execution_count": 53
        }
      ]
    },
    {
      "cell_type": "markdown",
      "metadata": {
        "id": "ZFwk0t8z6xxY"
      },
      "source": [
        "##### 6.2.4 CatBoost __(0.89 for both)__"
      ],
      "id": "ZFwk0t8z6xxY"
    },
    {
      "cell_type": "code",
      "metadata": {
        "colab": {
          "background_save": true
        },
        "id": "g3sk_9yK63Db",
        "outputId": "b988cdd8-c0d4-4943-d391-b7f546149d2f"
      },
      "source": [
        "cat = CatBoostClassifier(task_type=\"GPU\",\n",
        "                           devices='0:1');\n",
        "\n",
        "grid = {'learning_rate': [0.003, 0.03],\n",
        "        'depth': [4, 6, 8],\n",
        "        'l2_leaf_reg': [0.03, 0.1, 1]}\n",
        "\n",
        "grid_search_result = cat.grid_search(grid, \n",
        "                                       X=X_train_tda, \n",
        "                                       y=y_train, \n",
        "                                       plot=True)"
      ],
      "id": "g3sk_9yK63Db",
      "execution_count": null,
      "outputs": [
        {
          "output_type": "error",
          "ename": "NameError",
          "evalue": "ignored",
          "traceback": [
            "\u001b[0;31m---------------------------------------------------------------------------\u001b[0m",
            "\u001b[0;31mNameError\u001b[0m                                 Traceback (most recent call last)",
            "\u001b[0;32m<ipython-input-1-b5d920fae222>\u001b[0m in \u001b[0;36m<module>\u001b[0;34m()\u001b[0m\n\u001b[0;32m----> 1\u001b[0;31m cat = CatBoostClassifier(task_type=\"GPU\",\n\u001b[0m\u001b[1;32m      2\u001b[0m                            devices='0:1');\n\u001b[1;32m      3\u001b[0m \u001b[0;34m\u001b[0m\u001b[0m\n\u001b[1;32m      4\u001b[0m grid = {'learning_rate': [0.003, 0.03],\n\u001b[1;32m      5\u001b[0m         \u001b[0;34m'depth'\u001b[0m\u001b[0;34m:\u001b[0m \u001b[0;34m[\u001b[0m\u001b[0;36m4\u001b[0m\u001b[0;34m,\u001b[0m \u001b[0;36m6\u001b[0m\u001b[0;34m,\u001b[0m \u001b[0;36m8\u001b[0m\u001b[0;34m]\u001b[0m\u001b[0;34m,\u001b[0m\u001b[0;34m\u001b[0m\u001b[0;34m\u001b[0m\u001b[0m\n",
            "\u001b[0;31mNameError\u001b[0m: name 'CatBoostClassifier' is not defined"
          ]
        }
      ]
    },
    {
      "cell_type": "code",
      "metadata": {
        "id": "pVFHlAeT8_V5"
      },
      "source": [
        "bestCat = CatBoostClassifier(**grid_search_result['params'])\n",
        "bestCat.fit(X_train_tda, y_train)"
      ],
      "id": "pVFHlAeT8_V5",
      "execution_count": null,
      "outputs": []
    },
    {
      "cell_type": "code",
      "metadata": {
        "colab": {
          "base_uri": "https://localhost:8080/"
        },
        "id": "nx1_zJc59kWi",
        "outputId": "aa42a57e-8426-4551-eff3-63f3bdfd7eea"
      },
      "source": [
        "grid_search_result['params']"
      ],
      "id": "nx1_zJc59kWi",
      "execution_count": null,
      "outputs": [
        {
          "output_type": "execute_result",
          "data": {
            "text/plain": [
              "{'depth': 6, 'l2_leaf_reg': 1, 'learning_rate': 0.03}"
            ]
          },
          "metadata": {
            "tags": []
          },
          "execution_count": 13
        }
      ]
    },
    {
      "cell_type": "code",
      "metadata": {
        "colab": {
          "base_uri": "https://localhost:8080/"
        },
        "id": "-mjdJN18_DRQ",
        "outputId": "aa0c71a4-aea2-48e3-d943-d8469fdf0c80"
      },
      "source": [
        "bestCat.score(X_test_tda, y_test)"
      ],
      "id": "-mjdJN18_DRQ",
      "execution_count": null,
      "outputs": [
        {
          "output_type": "execute_result",
          "data": {
            "text/plain": [
              "0.8933333333333333"
            ]
          },
          "metadata": {
            "tags": []
          },
          "execution_count": 12
        }
      ]
    },
    {
      "cell_type": "markdown",
      "metadata": {
        "id": "FkwwUkCkZkgX"
      },
      "source": [
        "### 7. Accuracy via number of features"
      ],
      "id": "FkwwUkCkZkgX"
    },
    {
      "cell_type": "code",
      "metadata": {
        "colab": {
          "base_uri": "https://localhost:8080/"
        },
        "id": "km56Hl_-38HT",
        "outputId": "68ef7851-df95-4678-8255-509ec305cc0a"
      },
      "source": [
        "numOfFeatures = [50, 100, 150, 200, 250, 300, 350, 400, 450]\n",
        "accuracies = []\n",
        "\n",
        "rf = RandomForestClassifier()\n",
        "rf.fit(X_train_tda, y_train)\n",
        "\n",
        "for num in numOfFeatures:\n",
        "    print(num)\n",
        "    bestFeatures = rf.feature_importances_.argsort()[-num:][::-1]\n",
        "    X_train_best = X_train_tda[:, bestFeatures]\n",
        "    svc_num = SVC(random_state=42)\n",
        "    svc_num.fit(X_train_best, y_train)\n",
        "    X_test_num = tda_union.transform(X_test)[:, bestFeatures]\n",
        "    accuracies.append(svc_num.score(X_test_num, y_test))\n"
      ],
      "id": "km56Hl_-38HT",
      "execution_count": null,
      "outputs": [
        {
          "output_type": "stream",
          "text": [
            "50\n",
            "100\n",
            "150\n",
            "200\n",
            "250\n",
            "300\n",
            "350\n",
            "400\n",
            "450\n"
          ],
          "name": "stdout"
        }
      ]
    },
    {
      "cell_type": "code",
      "metadata": {
        "colab": {
          "base_uri": "https://localhost:8080/"
        },
        "id": "MZQIT3Wx6hOC",
        "outputId": "ebb82316-e5b0-4899-d7bd-772f858ecfbc"
      },
      "source": [
        "print(accuracies)"
      ],
      "id": "MZQIT3Wx6hOC",
      "execution_count": null,
      "outputs": [
        {
          "output_type": "stream",
          "text": [
            "[0.8566666666666667, 0.89, 0.8833333333333333, 0.8666666666666667, 0.8733333333333333, 0.8633333333333333, 0.8533333333333334, 0.8633333333333333, 0.8433333333333334]\n"
          ],
          "name": "stdout"
        }
      ]
    },
    {
      "cell_type": "code",
      "metadata": {
        "colab": {
          "base_uri": "https://localhost:8080/",
          "height": 282
        },
        "id": "PycXxE4hmTNa",
        "outputId": "394bb41e-177c-4474-9b89-1db2299a1f97"
      },
      "source": [
        "plt.plot(numOfFeatures, accuracies)"
      ],
      "id": "PycXxE4hmTNa",
      "execution_count": null,
      "outputs": [
        {
          "output_type": "execute_result",
          "data": {
            "text/plain": [
              "[<matplotlib.lines.Line2D at 0x7f4611fc8190>]"
            ]
          },
          "metadata": {
            "tags": []
          },
          "execution_count": 22
        },
        {
          "output_type": "display_data",
          "data": {
            "image/png": "[encoded data removed]",
            "text/plain": [
              "<Figure size 432x288 with 1 Axes>"
            ]
          },
          "metadata": {
            "tags": []
          }
        }
      ]
    },
    {
      "cell_type": "code",
      "metadata": {
        "colab": {
          "base_uri": "https://localhost:8080/"
        },
        "id": "WFcmAjasmU9r",
        "outputId": "98703dc8-085c-43ea-9041-685a4e8d8cd5"
      },
      "source": [
        "s = SVC(random_state=42)\n",
        "\n",
        "X_train_part = X_train_tda[:, rf.feature_importances_.argsort()[-50:][::-1]]\n",
        "s.fit(X_train_part, y_train)\n",
        "\n",
        "X_test_num = tda_union.transform(X_test)[:, rf.feature_importances_.argsort()[-50:][::-1]]\n",
        "s.score(X_test_num, y_test)"
      ],
      "id": "WFcmAjasmU9r",
      "execution_count": null,
      "outputs": [
        {
          "output_type": "execute_result",
          "data": {
            "text/plain": [
              "0.8566666666666667"
            ]
          },
          "metadata": {
            "tags": []
          },
          "execution_count": 25
        }
      ]
    },
    {
      "cell_type": "markdown",
      "metadata": {
        "id": "0QuLURiuivKt"
      },
      "source": [
        "### 8. Grid Search with different numbers of features"
      ],
      "id": "0QuLURiuivKt"
    },
    {
      "cell_type": "code",
      "metadata": {
        "colab": {
          "base_uri": "https://localhost:8080/"
        },
        "id": "EWJOmVoZiz4W",
        "outputId": "3e75f16c-21d7-4924-8b00-cba90215bc37"
      },
      "source": [
        "numOfFeatures = [50, 100, 150, 200, 250, 300, 350, 400, 450]\n",
        "params = []\n",
        "scores = []\n",
        "accuracies = []\n",
        "\n",
        "rf = RandomForestClassifier()\n",
        "rf.fit(X_train_tda, y_train)\n",
        "\n",
        "svm_params = {\n",
        "    'kernel' : ('linear', 'sigmoid', 'rbf', 'poly'),\n",
        "    'C' : [10 ** i for i in range(-2, 3)],\n",
        "    'degree' : [3, 5, 7],\n",
        "    'coef0' : [j**i for i in np.arange(-4,1,1) for j in np.arange(1.,4.,1.)],\n",
        "    'gamma' : ('scale', 'auto'),\n",
        "    'decision_function_shape': ('ovr', 'ovo')\n",
        "}\n",
        "\n",
        "for num in numOfFeatures:\n",
        "    print(num)\n",
        "    bestFeatures = rf.feature_importances_.argsort()[-num:][::-1]\n",
        "    X_train_best = X_train_tda[:, bestFeatures]\n",
        "\n",
        "    svm = SVC(random_state=42)\n",
        "\n",
        "    svm_grid = GridSearchCV(\n",
        "        estimator=svm, param_grid=svm_params, cv=3, n_jobs=-1, verbose=4\n",
        "    )\n",
        "\n",
        "    svm_grid.fit(X_train_best, y_train)\n",
        "\n",
        "    params.append(svm_grid.best_params_)\n",
        "    scores.append(svm_grid.best_score_)\n",
        "\n",
        "    X_test_num = tda_union.transform(X_test)[:, bestFeatures]\n",
        "    accuracies.append(svm_grid.best_estimator_.score(X_test_num, y_test))"
      ],
      "id": "EWJOmVoZiz4W",
      "execution_count": null,
      "outputs": [
        {
          "output_type": "stream",
          "text": [
            "50\n",
            "Fitting 3 folds for each of 3600 candidates, totalling 10800 fits\n",
            "100\n",
            "Fitting 3 folds for each of 3600 candidates, totalling 10800 fits\n",
            "150\n",
            "Fitting 3 folds for each of 3600 candidates, totalling 10800 fits\n",
            "200\n",
            "Fitting 3 folds for each of 3600 candidates, totalling 10800 fits\n",
            "250\n",
            "Fitting 3 folds for each of 3600 candidates, totalling 10800 fits\n",
            "300\n",
            "Fitting 3 folds for each of 3600 candidates, totalling 10800 fits\n",
            "350\n",
            "Fitting 3 folds for each of 3600 candidates, totalling 10800 fits\n",
            "400\n",
            "Fitting 3 folds for each of 3600 candidates, totalling 10800 fits\n",
            "450\n",
            "Fitting 3 folds for each of 3600 candidates, totalling 10800 fits\n"
          ],
          "name": "stdout"
        }
      ]
    },
    {
      "cell_type": "code",
      "metadata": {
        "colab": {
          "base_uri": "https://localhost:8080/",
          "height": 283
        },
        "id": "6kJOSdRnBjZl",
        "outputId": "96d690ef-7379-4480-9d79-4d7bd04a3fe4"
      },
      "source": [
        "plt.plot(numOfFeatures, accuracies)"
      ],
      "id": "6kJOSdRnBjZl",
      "execution_count": null,
      "outputs": [
        {
          "output_type": "execute_result",
          "data": {
            "text/plain": [
              "[<matplotlib.lines.Line2D at 0x7f463a6b91d0>]"
            ]
          },
          "metadata": {
            "tags": []
          },
          "execution_count": 28
        },
        {
          "output_type": "display_data",
          "data": {
            "image/png": "[encoded data removed]",
            "text/plain": [
              "<Figure size 432x288 with 1 Axes>"
            ]
          },
          "metadata": {
            "tags": []
          }
        }
      ]
    },
    {
      "cell_type": "code",
      "metadata": {
        "colab": {
          "base_uri": "https://localhost:8080/",
          "height": 283
        },
        "id": "vbDnYl4rNNzb",
        "outputId": "ed3a719d-3c51-4b28-b802-75b69dc0795d"
      },
      "source": [
        "plt.plot(numOfFeatures, scores)"
      ],
      "id": "vbDnYl4rNNzb",
      "execution_count": null,
      "outputs": [
        {
          "output_type": "execute_result",
          "data": {
            "text/plain": [
              "[<matplotlib.lines.Line2D at 0x7f463f0e34d0>]"
            ]
          },
          "metadata": {
            "tags": []
          },
          "execution_count": 29
        },
        {
          "output_type": "display_data",
          "data": {
            "image/png": "[encoded data removed]",
            "text/plain": [
              "<Figure size 432x288 with 1 Axes>"
            ]
          },
          "metadata": {
            "tags": []
          }
        }
      ]
    },
    {
      "cell_type": "code",
      "metadata": {
        "colab": {
          "base_uri": "https://localhost:8080/",
          "height": 283
        },
        "id": "GhAuXBUJWA4w",
        "outputId": "d8a82c56-db2a-45f3-fd46-84ac3b404047"
      },
      "source": [
        "cs = [params[i]['C'] for i in range(len(params))]\n",
        "plt.plot(numOfFeatures, cs)"
      ],
      "id": "GhAuXBUJWA4w",
      "execution_count": null,
      "outputs": [
        {
          "output_type": "execute_result",
          "data": {
            "text/plain": [
              "[<matplotlib.lines.Line2D at 0x7f46a3af7f50>]"
            ]
          },
          "metadata": {
            "tags": []
          },
          "execution_count": 30
        },
        {
          "output_type": "display_data",
          "data": {
            "image/png": "[encoded data removed]",
            "text/plain": [
              "<Figure size 432x288 with 1 Axes>"
            ]
          },
          "metadata": {
            "tags": []
          }
        }
      ]
    }
  ]
}